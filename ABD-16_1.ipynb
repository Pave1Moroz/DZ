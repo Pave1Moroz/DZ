{
 "cells": [
  {
   "cell_type": "code",
   "execution_count": 12,
   "id": "5d265c75-3991-4c59-ac48-4defdc500971",
   "metadata": {},
   "outputs": [],
   "source": [
    "import pandas as pd\n",
    "from sklearn.model_selection import train_test_split\n",
    "from sklearn.linear_model import LinearRegression\n",
    "from sklearn.metrics import mean_squared_error"
   ]
  },
  {
   "cell_type": "code",
   "execution_count": 13,
   "id": "48451db3-9df6-4891-8beb-982ec9b58eeb",
   "metadata": {},
   "outputs": [],
   "source": [
    "data = pd.read_csv(\"homework.csv\")"
   ]
  },
  {
   "cell_type": "markdown",
   "id": "84010e21-f197-435c-bf71-8590a64d76ed",
   "metadata": {},
   "source": [
    "."
   ]
  },
  {
   "cell_type": "code",
   "execution_count": 14,
   "id": "ece65595-b907-4c56-89fc-a8c82e36b459",
   "metadata": {},
   "outputs": [],
   "source": [
    "x, y = data[['crim', 'zn', 'indus', 'chas', 'nox', 'rm', 'age', 'dis', 'rad',\n",
    "       'tax', 'ptratio', 'black', 'lstat']], data[['medv']]"
   ]
  },
  {
   "cell_type": "code",
   "execution_count": 15,
   "id": "45fdb6ab-93fc-4433-aea1-017b335b5d50",
   "metadata": {},
   "outputs": [],
   "source": [
    "x_train, x_test, y_train, y_test = train_test_split(x, y, test_size = 0.2)"
   ]
  },
  {
   "cell_type": "markdown",
   "id": "e0749530-abe2-4ee6-bb0f-940172d5dd83",
   "metadata": {},
   "source": [
    "."
   ]
  },
  {
   "cell_type": "code",
   "execution_count": 16,
   "id": "1c791e5d-0fa9-45cf-a526-b0f3e88532ea",
   "metadata": {},
   "outputs": [
    {
     "data": {
      "text/plain": [
       "LinearRegression()"
      ]
     },
     "execution_count": 16,
     "metadata": {},
     "output_type": "execute_result"
    }
   ],
   "source": [
    "model = LinearRegression()\n",
    "model.fit(x_train, y_train)"
   ]
  },
  {
   "cell_type": "code",
   "execution_count": 17,
   "id": "432ab932-998d-4d41-bc05-d5dcba9a5a54",
   "metadata": {},
   "outputs": [
    {
     "data": {
      "text/plain": [
       "22.737480262257964"
      ]
     },
     "execution_count": 17,
     "metadata": {},
     "output_type": "execute_result"
    }
   ],
   "source": [
    "#На обучающей выборке:\n",
    "mean_squared_error(y_train, model.predict(x_train))"
   ]
  },
  {
   "cell_type": "code",
   "execution_count": 18,
   "id": "9d5cdd47-9d72-4284-b928-5014c3f74be3",
   "metadata": {},
   "outputs": [
    {
     "data": {
      "text/plain": [
       "22.0817953645905"
      ]
     },
     "execution_count": 18,
     "metadata": {},
     "output_type": "execute_result"
    }
   ],
   "source": [
    "#На тестовой выборке:\n",
    "mean_squared_error(y_test, model.predict(x_test))"
   ]
  },
  {
   "cell_type": "markdown",
   "id": "d0175a4e-ec9f-411b-8fa5-63fb24048128",
   "metadata": {},
   "source": [
    "."
   ]
  }
 ],
 "metadata": {
  "kernelspec": {
   "display_name": "Python 3",
   "language": "python",
   "name": "python3"
  },
  "language_info": {
   "codemirror_mode": {
    "name": "ipython",
    "version": 3
   },
   "file_extension": ".py",
   "mimetype": "text/x-python",
   "name": "python",
   "nbconvert_exporter": "python",
   "pygments_lexer": "ipython3",
   "version": "3.8.8"
  }
 },
 "nbformat": 4,
 "nbformat_minor": 5
}
