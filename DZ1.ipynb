{
 "cells": [
  {
   "cell_type": "markdown",
   "metadata": {},
   "source": [
    "# ДЗ 1 ПМ"
   ]
  },
  {
   "cell_type": "markdown",
   "metadata": {},
   "source": [
    "Задание 1"
   ]
  },
  {
   "cell_type": "code",
   "execution_count": 10,
   "metadata": {},
   "outputs": [
    {
     "name": "stdout",
     "output_type": "stream",
     "text": [
      "Введите строку 1: тва\n",
      "Введите строку 2: ываываываыва\n",
      "Строка 2 длиннее чем строка 1\n"
     ]
    }
   ],
   "source": [
    "string1 = str(input('Строка 1: '))\n",
    "string2 = str(input('Строка 2: '))\n",
    "\n",
    "if len(string1) > len(string2):\n",
    "    print ('Строка 1 длиннее чем строка 2')\n",
    "elif len(string1) < len(string2):\n",
    "        print ('Строка 2 длиннее чем строка 1')\n",
    "else: print ('Строки одинаковой длинны')"
   ]
  },
  {
   "cell_type": "markdown",
   "metadata": {},
   "source": [
    "Задание 2"
   ]
  },
  {
   "cell_type": "code",
   "execution_count": 13,
   "metadata": {},
   "outputs": [
    {
     "name": "stdout",
     "output_type": "stream",
     "text": [
      "Введите год, который нужно проверить на високосность: 2020\n",
      "Високосный год\n"
     ]
    }
   ],
   "source": [
    "year = int(input('Год, который нужно проверить на високосность? : '))\n",
    "\n",
    "if year % 4 == 0 and (year % 100 != 0 or year % 400 == 0): #Високосный год кратен 4 или 400, но не кратен 100\n",
    "    print ('Високосный год')\n",
    "else: print ('Обычный год')"
   ]
  },
  {
   "cell_type": "markdown",
   "metadata": {},
   "source": [
    "Задание 3"
   ]
  },
  {
   "cell_type": "code",
   "execution_count": 5,
   "metadata": {},
   "outputs": [
    {
     "name": "stdout",
     "output_type": "stream",
     "text": [
      "Введите номер дня даты рождения: 21\n",
      "Введите месяц даты рождения текстом, в именительном падеже: март\n",
      "Знак зодиака: Овен\n"
     ]
    }
   ],
   "source": [
    "day = int(input('День даты рождения?: '))\n",
    "month_text = str(input('Введите месяц рождения текстом, в именительном падеже: '))\n",
    "\n",
    "if (month_text == 'январь'): month = 1\n",
    "elif (month_text == 'февраль'): month = 2\n",
    "elif (month_text == 'март'): month = 3\n",
    "elif (month_text == 'апрель'): month = 4\n",
    "elif (month_text == 'май'): month = 5\n",
    "elif (month_text == 'июнь'): month = 6\n",
    "elif (month_text == 'июль'): month = 7\n",
    "elif (month_text == 'август'): month = 8\n",
    "elif (month_text == 'сентябрь'): month = 9\n",
    "elif (month_text == 'Октябрь'): month = 10\n",
    "elif (month_text == 'ноябрь'): month = 11\n",
    "elif (month_text == 'декабрь'): month = 12\n",
    "    \n",
    "if ((day >= 20) and (month == 1)) or ((day < 19) and (month == 2)):\n",
    "    print ('Знак зодиака: Водолей')\n",
    "elif ((day >= 19) and (month == 2)) or ((day < 21) and (month == 3)):\n",
    "    print ('Знак зодиака: Рыбы')\n",
    "elif ((day >= 21) and (month == 3)) or ((day < 20) and (month == 4)):\n",
    "    print ('Знак зодиака: Овен')\n",
    "elif ((day >= 20) and (month == 4)) or ((day < 21) and (month == 5)):\n",
    "    print ('Знак зодиака: Телец')\n",
    "elif ((day >= 21) and (month == 5)) or ((day < 22) and (month == 6)):\n",
    "    print ('Знак зодиака: Близнецы')\n",
    "elif ((day >= 22) and (month == 6)) or ((day < 23) and (month == 7)):\n",
    "    print ('Знак зодиака: Рак')\n",
    "elif ((day >= 23) and (month == 7)) or ((day < 23) and (month == 8)):\n",
    "    print ('Знак зодиака: Лев')\n",
    "elif ((day >= 23) and (month == 8)) or ((day < 23) and (month == 9)):\n",
    "    print ('Знак зодиака: Дева')\n",
    "elif ((day >= 23) and (month == 9)) or ((day < 23) and (month == 10)):\n",
    "    print ('Знак зодиака: Весы')\n",
    "elif ((day >= 23) and (month == 10)) or ((day < 23) and (month == 11)):\n",
    "    print ('Знак зодиака: Скорпион')\n",
    "elif ((day >= 23) and (month == 11)) or ((day < 22) and (month == 12)):\n",
    "    print ('Знак зодиака: Стрелец')\n",
    "elif ((day >= 22) and (month == 12)) or ((day < 20) and (month == 1)):\n",
    "    print ('Знак зодиака: Козерог')"
   ]
  },
  {
   "cell_type": "markdown",
   "metadata": {},
   "source": [
    "Задание 4"
   ]
  },
  {
   "cell_type": "code",
   "execution_count": 6,
   "metadata": {},
   "outputs": [
    {
     "name": "stdout",
     "output_type": "stream",
     "text": [
      "Введите ширину товара в сантиметрах: 80\n",
      "Введите длинну товара в сантиметрах: 10\n",
      "Введите высоту товара в сантиметрах: 10\n",
      "Для упаковки товара подходит стандартная коробка №3\n"
     ]
    }
   ],
   "source": [
    "wight = int(input('Ширина товара в сантиметрах?: '))\n",
    "lenght = int(input('Длинна товара в сантиметрах?: '))\n",
    "height = int(input('Высота товара в сантиметрах?: '))\n",
    "\n",
    "if lenght > 200 :\n",
    "    print ('Для упаковки товара подходит упаковка для лыж')\n",
    "elif (wight < 15) and (lenght < 15) and (height < 15): #будем считать что в коробку 15*15*15 не входит товар размерами 15*15*15\n",
    "    print ('Для упаковки товара подходит коробка №1')\n",
    "elif (50 > wight >= 15) or (50 > lenght >= 15) or (50 > height >= 15):\n",
    "    print ('Для упаковки товара подходит коробка №2')\n",
    "else: print ('Для упаковки товара подходит стандартная коробка №3')"
   ]
  },
  {
   "cell_type": "markdown",
   "metadata": {},
   "source": [
    "Задание 5"
   ]
  },
  {
   "cell_type": "code",
   "execution_count": 55,
   "metadata": {},
   "outputs": [
    {
     "name": "stdout",
     "output_type": "stream",
     "text": [
      "Номер проездного? (6 цифр): 123456\n",
      "Несчастливый билет\n"
     ]
    }
   ],
   "source": [
    "bilet = int(input('Номер проездного? (6 цифр): '))\n",
    "if ((bilet//100000)+(bilet%100000//10000)+(bilet%10000//1000)-(bilet%1000//100)-(bilet%100//10)-(bilet%10)) == 0 :\n",
    "    print ('Счастливый билет')\n",
    "else: print ('Несчастливый билет')"
   ]
  },
  {
   "cell_type": "markdown",
   "metadata": {},
   "source": [
    "Задание 6"
   ]
  },
  {
   "cell_type": "code",
   "execution_count": null,
   "metadata": {},
   "outputs": [],
   "source": [
    "shape_type = str(input('Тип фигуры? (круг, треугольник, прямоугольник): ')) #примем что стороны и радиус фигур имеют формат int\n",
    "if shape_type == 'круг':\n",
    "    radius = int(input('Радиус круга?: '))\n",
    "    print ('Площадь круга:',3.14*(radius**2))\n",
    "elif shape_type == 'треугольник':\n",
    "    a = int(input('Длинна строны а?: '))\n",
    "    b = int(input('Длинна строны b?: '))\n",
    "    c = int(input('Длинна строны c?: '))\n",
    "    p = (a+b+c)/2 #полупериметр\n",
    "    print ('Площадь треугольника:',(p*(p-a)*(p-b)*(p-c))**0.5)\n",
    "elif shape_type == 'прямоугольник':\n",
    "    a = int(input('Длинна строны а?: '))\n",
    "    b = int(input('Длинна строны b?: '))\n",
    "    print ('Площадь поямоугольника:',a*b)"
   ]
  }
 ],
 "metadata": {
  "kernelspec": {
   "display_name": "Python 3",
   "language": "python",
   "name": "python3"
  },
  "language_info": {
   "codemirror_mode": {
    "name": "ipython",
    "version": 3
   },
   "file_extension": ".py",
   "mimetype": "text/x-python",
   "name": "python",
   "nbconvert_exporter": "python",
   "pygments_lexer": "ipython3",
   "version": "3.7.6"
  }
 },
 "nbformat": 4,
 "nbformat_minor": 4
}
