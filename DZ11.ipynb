{
 "cells": [
  {
   "cell_type": "code",
   "execution_count": 19,
   "metadata": {},
   "outputs": [],
   "source": [
    "import pandas as pd\n",
    "\n",
    "data_films = pd.read_csv('ratings.csv')\n",
    "movies = pd.read_csv('movies.csv')\n",
    "power = pd.read_csv('power.csv')"
   ]
  },
  {
   "cell_type": "markdown",
   "metadata": {},
   "source": [
    "Задание 1"
   ]
  },
  {
   "cell_type": "code",
   "execution_count": 35,
   "metadata": {},
   "outputs": [
    {
     "data": {
      "text/html": [
       "<div>\n",
       "<style scoped>\n",
       "    .dataframe tbody tr th:only-of-type {\n",
       "        vertical-align: middle;\n",
       "    }\n",
       "\n",
       "    .dataframe tbody tr th {\n",
       "        vertical-align: top;\n",
       "    }\n",
       "\n",
       "    .dataframe thead th {\n",
       "        text-align: right;\n",
       "    }\n",
       "</style>\n",
       "<table border=\"1\" class=\"dataframe\">\n",
       "  <thead>\n",
       "    <tr style=\"text-align: right;\">\n",
       "      <th></th>\n",
       "      <th>movieId</th>\n",
       "      <th>title</th>\n",
       "      <th>genres</th>\n",
       "    </tr>\n",
       "  </thead>\n",
       "  <tbody>\n",
       "    <tr>\n",
       "      <th>314</th>\n",
       "      <td>318</td>\n",
       "      <td>Shawshank Redemption, The (1994)</td>\n",
       "      <td>Crime|Drama</td>\n",
       "    </tr>\n",
       "  </tbody>\n",
       "</table>\n",
       "</div>"
      ],
      "text/plain": [
       "     movieId                             title       genres\n",
       "314      318  Shawshank Redemption, The (1994)  Crime|Drama"
      ]
     },
     "execution_count": 35,
     "metadata": {},
     "output_type": "execute_result"
    }
   ],
   "source": [
    "index_of_most_5_film = data_films[data_films.rating == 5]['movieId'].value_counts().index[0]\n",
    "movies[movies.movieId == index_of_most_5_film]"
   ]
  },
  {
   "cell_type": "markdown",
   "metadata": {},
   "source": [
    "Задание 2"
   ]
  },
  {
   "cell_type": "code",
   "execution_count": 71,
   "metadata": {},
   "outputs": [
    {
     "data": {
      "text/plain": [
       "240580.0"
      ]
     },
     "execution_count": 71,
     "metadata": {},
     "output_type": "execute_result"
    }
   ],
   "source": [
    "sum( power[((power.country == 'Latvia') | (power.country == 'Lithuania') | (power.country == 'Estonia'))&\n",
    "      ((power.category == 4) | (power.category == 12) | (power.category == 21))&\n",
    "      (power.year < 2011)&(power.year > 2004)&\n",
    "      (power.quantity > 0)]\n",
    "      ['quantity'] )\n",
    "#может длинно конечно, но вроде читаемо ^^"
   ]
  },
  {
   "cell_type": "markdown",
   "metadata": {},
   "source": [
    "Задание 3"
   ]
  },
  {
   "cell_type": "code",
   "execution_count": 91,
   "metadata": {},
   "outputs": [],
   "source": [
    "data_from_website = pd.read_html('https://fortrader.org/quotes', encoding='utf-8')"
   ]
  },
  {
   "cell_type": "code",
   "execution_count": 92,
   "metadata": {},
   "outputs": [
    {
     "data": {
      "text/html": [
       "<div>\n",
       "<style scoped>\n",
       "    .dataframe tbody tr th:only-of-type {\n",
       "        vertical-align: middle;\n",
       "    }\n",
       "\n",
       "    .dataframe tbody tr th {\n",
       "        vertical-align: top;\n",
       "    }\n",
       "\n",
       "    .dataframe thead th {\n",
       "        text-align: right;\n",
       "    }\n",
       "</style>\n",
       "<table border=\"1\" class=\"dataframe\">\n",
       "  <thead>\n",
       "    <tr style=\"text-align: right;\">\n",
       "      <th></th>\n",
       "      <th>Название</th>\n",
       "      <th>Цена</th>\n",
       "      <th>Изменение</th>\n",
       "      <th>Изменение(%)</th>\n",
       "      <th>Обновлено</th>\n",
       "    </tr>\n",
       "  </thead>\n",
       "  <tbody>\n",
       "    <tr>\n",
       "      <th>0</th>\n",
       "      <td>Bitcoin Курс биткоина</td>\n",
       "      <td>49 254.20</td>\n",
       "      <td>-97.20000</td>\n",
       "      <td>-0.20000</td>\n",
       "      <td>NaN</td>\n",
       "    </tr>\n",
       "    <tr>\n",
       "      <th>1</th>\n",
       "      <td>Litecoin Курс лайткоин к доллару (LTC/USD)</td>\n",
       "      <td>319.62</td>\n",
       "      <td>18.88000</td>\n",
       "      <td>6.28000</td>\n",
       "      <td>NaN</td>\n",
       "    </tr>\n",
       "    <tr>\n",
       "      <th>2</th>\n",
       "      <td>BitcoinCash Курс Биткоин кеш к доллару США (BC...</td>\n",
       "      <td>1 273.16</td>\n",
       "      <td>-9.99000</td>\n",
       "      <td>-0.78000</td>\n",
       "      <td>NaN</td>\n",
       "    </tr>\n",
       "    <tr>\n",
       "      <th>3</th>\n",
       "      <td>Dash Dash</td>\n",
       "      <td>363.34</td>\n",
       "      <td>27.08000</td>\n",
       "      <td>8.05000</td>\n",
       "      <td>NaN</td>\n",
       "    </tr>\n",
       "    <tr>\n",
       "      <th>4</th>\n",
       "      <td>Ripple Ripple</td>\n",
       "      <td>1.357</td>\n",
       "      <td>-0.13900</td>\n",
       "      <td>-9.30400</td>\n",
       "      <td>NaN</td>\n",
       "    </tr>\n",
       "    <tr>\n",
       "      <th>5</th>\n",
       "      <td>Ethereum Ethereum</td>\n",
       "      <td>3 998.06</td>\n",
       "      <td>-9.71000</td>\n",
       "      <td>-0.24000</td>\n",
       "      <td>NaN</td>\n",
       "    </tr>\n",
       "    <tr>\n",
       "      <th>6</th>\n",
       "      <td>Zcash (ZEC)</td>\n",
       "      <td>294.74</td>\n",
       "      <td>23.26000</td>\n",
       "      <td>8.57000</td>\n",
       "      <td>NaN</td>\n",
       "    </tr>\n",
       "    <tr>\n",
       "      <th>7</th>\n",
       "      <td>NEO (NEO)</td>\n",
       "      <td>97.82</td>\n",
       "      <td>5.14000</td>\n",
       "      <td>5.55000</td>\n",
       "      <td>NaN</td>\n",
       "    </tr>\n",
       "    <tr>\n",
       "      <th>8</th>\n",
       "      <td>EOS (EOS)</td>\n",
       "      <td>10.812</td>\n",
       "      <td>0.59000</td>\n",
       "      <td>5.77200</td>\n",
       "      <td>NaN</td>\n",
       "    </tr>\n",
       "    <tr>\n",
       "      <th>9</th>\n",
       "      <td>TRON (TRX)</td>\n",
       "      <td>0.12222</td>\n",
       "      <td>0.00147</td>\n",
       "      <td>1.21739</td>\n",
       "      <td>NaN</td>\n",
       "    </tr>\n",
       "    <tr>\n",
       "      <th>10</th>\n",
       "      <td>Monero</td>\n",
       "      <td>404.00</td>\n",
       "      <td>20.76000</td>\n",
       "      <td>5.42000</td>\n",
       "      <td>NaN</td>\n",
       "    </tr>\n",
       "    <tr>\n",
       "      <th>11</th>\n",
       "      <td>IOTA</td>\n",
       "      <td>1.8896</td>\n",
       "      <td>0.03540</td>\n",
       "      <td>1.90920</td>\n",
       "      <td>NaN</td>\n",
       "    </tr>\n",
       "    <tr>\n",
       "      <th>12</th>\n",
       "      <td>ETC/USD эфириум классик, ETC</td>\n",
       "      <td>99.351</td>\n",
       "      <td>4.27600</td>\n",
       "      <td>4.49800</td>\n",
       "      <td>NaN</td>\n",
       "    </tr>\n",
       "  </tbody>\n",
       "</table>\n",
       "</div>"
      ],
      "text/plain": [
       "                                             Название       Цена  Изменение  \\\n",
       "0                               Bitcoin Курс биткоина  49 254.20  -97.20000   \n",
       "1          Litecoin Курс лайткоин к доллару (LTC/USD)     319.62   18.88000   \n",
       "2   BitcoinCash Курс Биткоин кеш к доллару США (BC...   1 273.16   -9.99000   \n",
       "3                                           Dash Dash     363.34   27.08000   \n",
       "4                                       Ripple Ripple      1.357   -0.13900   \n",
       "5                                   Ethereum Ethereum   3 998.06   -9.71000   \n",
       "6                                         Zcash (ZEC)     294.74   23.26000   \n",
       "7                                           NEO (NEO)      97.82    5.14000   \n",
       "8                                           EOS (EOS)     10.812    0.59000   \n",
       "9                                          TRON (TRX)    0.12222    0.00147   \n",
       "10                                             Monero     404.00   20.76000   \n",
       "11                                               IOTA     1.8896    0.03540   \n",
       "12                       ETC/USD эфириум классик, ETC     99.351    4.27600   \n",
       "\n",
       "    Изменение(%)  Обновлено  \n",
       "0       -0.20000        NaN  \n",
       "1        6.28000        NaN  \n",
       "2       -0.78000        NaN  \n",
       "3        8.05000        NaN  \n",
       "4       -9.30400        NaN  \n",
       "5       -0.24000        NaN  \n",
       "6        8.57000        NaN  \n",
       "7        5.55000        NaN  \n",
       "8        5.77200        NaN  \n",
       "9        1.21739        NaN  \n",
       "10       5.42000        NaN  \n",
       "11       1.90920        NaN  \n",
       "12       4.49800        NaN  "
      ]
     },
     "execution_count": 92,
     "metadata": {},
     "output_type": "execute_result"
    }
   ],
   "source": [
    "data_from_website[8]"
   ]
  }
 ],
 "metadata": {
  "kernelspec": {
   "display_name": "Python 3",
   "language": "python",
   "name": "python3"
  },
  "language_info": {
   "codemirror_mode": {
    "name": "ipython",
    "version": 3
   },
   "file_extension": ".py",
   "mimetype": "text/x-python",
   "name": "python",
   "nbconvert_exporter": "python",
   "pygments_lexer": "ipython3",
   "version": "3.7.6"
  }
 },
 "nbformat": 4,
 "nbformat_minor": 4
}
