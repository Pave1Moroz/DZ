{
 "cells": [
  {
   "cell_type": "code",
   "execution_count": 1,
   "id": "b4b96cef-7519-4c3d-b9b9-bb4e6c36e70c",
   "metadata": {},
   "outputs": [],
   "source": [
    "import numpy as np"
   ]
  },
  {
   "cell_type": "markdown",
   "id": "c345f2a3-b9ec-426a-a155-1c682a64271f",
   "metadata": {},
   "source": [
    "1."
   ]
  },
  {
   "cell_type": "code",
   "execution_count": 2,
   "id": "51618248-3622-4ec4-b6b5-2f918180882e",
   "metadata": {},
   "outputs": [
    {
     "data": {
      "text/plain": [
       "array([[4, 7, 5, 0, 8],\n",
       "       [5, 5, 2, 1, 1],\n",
       "       [5, 1, 7, 4, 0],\n",
       "       [6, 6, 6, 3, 5],\n",
       "       [7, 8, 2, 8, 5]])"
      ]
     },
     "execution_count": 2,
     "metadata": {},
     "output_type": "execute_result"
    }
   ],
   "source": [
    "a1 = np.random.randint(0, 9, (5, 5))\n",
    "a1"
   ]
  },
  {
   "cell_type": "code",
   "execution_count": 3,
   "id": "8bbb60ad-4097-4d8f-809a-20aebf78312f",
   "metadata": {},
   "outputs": [
    {
     "data": {
      "text/plain": [
       "array([[4, 5, 5, 6, 7],\n",
       "       [7, 5, 1, 6, 8],\n",
       "       [5, 2, 7, 6, 2],\n",
       "       [0, 1, 4, 3, 8],\n",
       "       [8, 1, 0, 5, 5]])"
      ]
     },
     "execution_count": 3,
     "metadata": {},
     "output_type": "execute_result"
    }
   ],
   "source": [
    "a1_t = np.transpose(a1)\n",
    "a1_t"
   ]
  },
  {
   "cell_type": "code",
   "execution_count": 4,
   "id": "4ded7486-fc99-41e8-ba8f-c61acd8c3605",
   "metadata": {},
   "outputs": [
    {
     "data": {
      "text/plain": [
       "array([[ -7.68292683,  -2.43902439,  -6.08943089,  15.08943089,\n",
       "         -2.30894309],\n",
       "       [  6.75609756,   2.41463415,   5.32520325, -13.32520325,\n",
       "          2.03252033],\n",
       "       [  3.56097561,   1.14634146,   2.91869919,  -6.91869919,\n",
       "          0.99186992],\n",
       "       [  1.68292683,   0.43902439,   1.42276423,  -3.42276423,\n",
       "          0.64227642],\n",
       "       [ -4.17073171,  -1.6097561 ,  -3.43902439,   8.43902439,\n",
       "         -1.24390244]])"
      ]
     },
     "execution_count": 4,
     "metadata": {},
     "output_type": "execute_result"
    }
   ],
   "source": [
    "a1_inv = np.linalg.inv(a1)\n",
    "a1_inv"
   ]
  },
  {
   "cell_type": "code",
   "execution_count": 5,
   "id": "f9eef1f0-3f24-42e0-92ca-b31305b1aee5",
   "metadata": {},
   "outputs": [
    {
     "data": {
      "text/plain": [
       "array([[2., 0., 0., 0.],\n",
       "       [0., 2., 0., 0.],\n",
       "       [0., 0., 0., 0.],\n",
       "       [0., 0., 0., 7.]])"
      ]
     },
     "execution_count": 5,
     "metadata": {},
     "output_type": "execute_result"
    }
   ],
   "source": [
    "a2 = np.eye(4)*np.random.randint(0, 9, (4, 4))\n",
    "a2"
   ]
  },
  {
   "cell_type": "code",
   "execution_count": 6,
   "id": "ef39db10-114a-4872-a5cd-774a671a0ffe",
   "metadata": {},
   "outputs": [
    {
     "data": {
      "text/plain": [
       "array([[0., 0., 0.],\n",
       "       [0., 0., 0.],\n",
       "       [0., 0., 0.]])"
      ]
     },
     "execution_count": 6,
     "metadata": {},
     "output_type": "execute_result"
    }
   ],
   "source": [
    "a3 = np.zeros((3, 3))\n",
    "a3"
   ]
  },
  {
   "cell_type": "markdown",
   "id": "8314dc7c-e7c1-4f64-beac-4c149084f187",
   "metadata": {},
   "source": [
    "2."
   ]
  },
  {
   "cell_type": "code",
   "execution_count": 7,
   "id": "30cd6c15-dcdd-4728-91cd-c9dc4b0d8e9e",
   "metadata": {},
   "outputs": [
    {
     "name": "stdout",
     "output_type": "stream",
     "text": [
      "Определитель a1 =  123\n",
      "Определитель a1_t =  123\n",
      "Определитель a1_inv =  0.008130081300812976\n",
      "Определитель a2 =  0\n",
      "Определитель a3 =  0\n"
     ]
    }
   ],
   "source": [
    "print('Определитель a1 = ', round(np.linalg.det(a1)))\n",
    "print('Определитель a1_t = ', round(np.linalg.det(a1_t)))\n",
    "print('Определитель a1_inv = ', np.linalg.det(a1_inv))\n",
    "print('Определитель a2 = ', round(np.linalg.det(a2)))\n",
    "print('Определитель a3 = ', round(np.linalg.det(a3)))"
   ]
  },
  {
   "cell_type": "code",
   "execution_count": 8,
   "id": "815bd974-9a9b-4279-b559-ceb44dbba7c7",
   "metadata": {},
   "outputs": [
    {
     "name": "stdout",
     "output_type": "stream",
     "text": [
      "-0.0012165450121654502\n"
     ]
    },
    {
     "data": {
      "text/plain": [
       "128"
      ]
     },
     "execution_count": 8,
     "metadata": {},
     "output_type": "execute_result"
    }
   ],
   "source": [
    "print(-822**-1) #определитель обратной матрицы - определитель матрицы в -1 степени\n",
    "2*4*8*2 #определитель диагональной - произведению элементов главной диагонали"
   ]
  },
  {
   "cell_type": "code",
   "execution_count": 9,
   "id": "a4ce9541-13a4-4779-abcf-85f4e2904cc4",
   "metadata": {},
   "outputs": [
    {
     "name": "stdout",
     "output_type": "stream",
     "text": [
      "Ранг a1 =  5\n",
      "Ранг a1_t =  5\n",
      "Ранг a1_inv =  5\n",
      "Ранг a2 =  3\n",
      "Ранг a3 =  0\n"
     ]
    }
   ],
   "source": [
    "print('Ранг a1 = ', np.linalg.matrix_rank(a1))\n",
    "print('Ранг a1_t = ', np.linalg.matrix_rank(a1_t))\n",
    "print('Ранг a1_inv = ', np.linalg.matrix_rank(a1_inv))\n",
    "print('Ранг a2 = ', np.linalg.matrix_rank(a2))\n",
    "print('Ранг a3 = ', np.linalg.matrix_rank(a3))"
   ]
  },
  {
   "cell_type": "code",
   "execution_count": 10,
   "id": "cd76df53-f001-4524-8587-af9b62589104",
   "metadata": {},
   "outputs": [
    {
     "data": {
      "text/plain": [
       "array([21.42447937, -4.65258219, -0.13106728,  1.64866263,  5.71050746])"
      ]
     },
     "execution_count": 10,
     "metadata": {},
     "output_type": "execute_result"
    }
   ],
   "source": [
    "np.linalg.eigvals(a1)"
   ]
  },
  {
   "cell_type": "code",
   "execution_count": 11,
   "id": "704a30ed-eacb-47ae-986f-b9e116bdfffd",
   "metadata": {},
   "outputs": [
    {
     "data": {
      "text/plain": [
       "array([21.42447937, -4.65258219,  5.71050746, -0.13106728,  1.64866263])"
      ]
     },
     "execution_count": 11,
     "metadata": {},
     "output_type": "execute_result"
    }
   ],
   "source": [
    "np.linalg.eigvals(a1_t)"
   ]
  },
  {
   "cell_type": "code",
   "execution_count": 12,
   "id": "6e0d5471-b0ef-4b4b-a868-b3400fdac11d",
   "metadata": {},
   "outputs": [
    {
     "data": {
      "text/plain": [
       "array([-7.62966935,  0.60655223, -0.21493441,  0.04667558,  0.17511579])"
      ]
     },
     "execution_count": 12,
     "metadata": {},
     "output_type": "execute_result"
    }
   ],
   "source": [
    "np.linalg.eigvals(a1_inv)"
   ]
  },
  {
   "cell_type": "code",
   "execution_count": 13,
   "id": "ce9a9ecc-7ab2-42b9-bc31-df5c627aee0a",
   "metadata": {},
   "outputs": [
    {
     "data": {
      "text/plain": [
       "array([2., 2., 0., 7.])"
      ]
     },
     "execution_count": 13,
     "metadata": {},
     "output_type": "execute_result"
    }
   ],
   "source": [
    "np.linalg.eigvals(a2)"
   ]
  },
  {
   "cell_type": "code",
   "execution_count": 14,
   "id": "2539b2e5-056f-4bfe-a8f8-cd7cc2db96b0",
   "metadata": {},
   "outputs": [
    {
     "data": {
      "text/plain": [
       "array([0., 0., 0.])"
      ]
     },
     "execution_count": 14,
     "metadata": {},
     "output_type": "execute_result"
    }
   ],
   "source": [
    "np.linalg.eigvals(a3)"
   ]
  }
 ],
 "metadata": {
  "kernelspec": {
   "display_name": "Python 3",
   "language": "python",
   "name": "python3"
  },
  "language_info": {
   "codemirror_mode": {
    "name": "ipython",
    "version": 3
   },
   "file_extension": ".py",
   "mimetype": "text/x-python",
   "name": "python",
   "nbconvert_exporter": "python",
   "pygments_lexer": "ipython3",
   "version": "3.8.8"
  }
 },
 "nbformat": 4,
 "nbformat_minor": 5
}
