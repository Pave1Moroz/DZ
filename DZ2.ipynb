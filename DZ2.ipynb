{
 "cells": [
  {
   "cell_type": "markdown",
   "metadata": {},
   "source": [
    "# ДЗ 2 ПМ"
   ]
  },
  {
   "cell_type": "markdown",
   "metadata": {},
   "source": [
    "Задание 1"
   ]
  },
  {
   "cell_type": "code",
   "execution_count": 33,
   "metadata": {},
   "outputs": [
    {
     "name": "stdout",
     "output_type": "stream",
     "text": [
      "Введи строку: qwerty2\n",
      "r\n"
     ]
    }
   ],
   "source": [
    "string = str(input('Введи строку: '))\n",
    "\n",
    "if (len(string))%2 > 0:\n",
    "    middle = int(len(string)/2)\n",
    "    print(string[middle])\n",
    "else: \n",
    "    middle1 = int(len(string)/2)-1\n",
    "    middle2 = int(len(string)/2)\n",
    "    print(string[middle1]+string[middle2])"
   ]
  },
  {
   "cell_type": "markdown",
   "metadata": {},
   "source": [
    "Задание 2"
   ]
  },
  {
   "cell_type": "code",
   "execution_count": 5,
   "metadata": {},
   "outputs": [
    {
     "name": "stdout",
     "output_type": "stream",
     "text": [
      "Введи число: 1\n",
      "Введи следующее число: 1\n",
      "Введи следующее число: 1\n",
      "Введи следующее число: 1\n",
      "Введи следующее число: 0\n",
      "Сейчас сумма = 4\n"
     ]
    }
   ],
   "source": [
    "nextnumber = int(input('Введи число: '))\n",
    "\n",
    "sum = nextnumber\n",
    "while nextnumber != 0:\n",
    "    nextnumber = int(input('Введи следующее число: '))\n",
    "    sum += nextnumber\n",
    "print ('Сейчас сумма =', sum)"
   ]
  },
  {
   "cell_type": "markdown",
   "metadata": {},
   "source": [
    "Задание 3"
   ]
  },
  {
   "cell_type": "code",
   "execution_count": 44,
   "metadata": {},
   "outputs": [
    {
     "name": "stdout",
     "output_type": "stream",
     "text": [
      "Alex  и  Emma\n",
      "Arthur  и  Kate\n",
      "John  и  Kira\n",
      "Peter  и  Liza\n",
      "Richard  и  Trisha\n"
     ]
    }
   ],
   "source": [
    "boys = ['Peter', 'Alex', 'John', 'Arthur', 'Richard']\n",
    "girls = ['Kate', 'Liza', 'Kira', 'Emma', 'Trisha']\n",
    "\n",
    "if len(boys) == len(girls):\n",
    "    pairs = list(zip(sorted(boys),sorted(girls)))\n",
    "    for names in pairs:\n",
    "        print (names[0],' и ',names[1])\n",
    "else: print ('Внимание, кто-то может остаться без пары!')"
   ]
  },
  {
   "cell_type": "markdown",
   "metadata": {},
   "source": [
    "Задание 4"
   ]
  },
  {
   "cell_type": "code",
   "execution_count": 112,
   "metadata": {},
   "outputs": [],
   "source": [
    "countries_temperature = [\n",
    "['Thailand', [75.2, 77, 78.8, 73.4, 68, 75.2, 77]],\n",
    "['Germany', [57.2, 55.4, 59, 59, 53.6]],\n",
    "['Russia', [35.6, 37.4, 39.2, 41, 42.8, 39.2, 35.6]],\n",
    "['Poland', [50, 50, 53.6, 57.2, 55.4, 55.4]]\n",
    "]"
   ]
  },
  {
   "cell_type": "code",
   "execution_count": 158,
   "metadata": {},
   "outputs": [
    {
     "name": "stdout",
     "output_type": "stream",
     "text": [
      "Средняя температура в странах:\n",
      "Thailand - 74.94\n",
      "Germany - 56.83\n",
      "Russia - 38.68\n",
      "Poland - 53.59\n"
     ]
    }
   ],
   "source": [
    "temp = 0\n",
    "index = -1\n",
    "print ('Средняя температура в странах:')\n",
    "for i in countries_temperature:\n",
    "    index += 1\n",
    "    for j in countries_temperature[index][1]:\n",
    "        temp += j\n",
    "    print (i[0],'-',((temp/len(countries_temperature[index][1]))//0.01)/100)\n",
    "    temp = 0"
   ]
  },
  {
   "cell_type": "markdown",
   "metadata": {},
   "source": [
    "Задание 5"
   ]
  },
  {
   "cell_type": "code",
   "execution_count": 63,
   "metadata": {},
   "outputs": [
    {
     "name": "stdout",
     "output_type": "stream",
     "text": [
      "Среднее количество просмотров на уникального пользователя: 145.33\n"
     ]
    }
   ],
   "source": [
    "#поток\n",
    "stream = [\n",
    "'2018-01-01,user100,150',\n",
    "'2018-01-07,user99,205',\n",
    "'2018-03-29,user1001,81'\n",
    "]\n",
    "\n",
    "#списки из строк\n",
    "index = -1\n",
    "logs = []\n",
    "for i in stream:\n",
    "    index += 1\n",
    "    newstr = stream[index].split(',')\n",
    "    newstr[2] = int(newstr[2])\n",
    "    logs.append(newstr)\n",
    "\n",
    "#список уникальных юзеров\n",
    "non_unique_names=[]\n",
    "index = -1\n",
    "for i in logs:\n",
    "    index += 1\n",
    "    non_unique_names.append(logs[index][1])\n",
    "unique_names = list(set(non_unique_names))\n",
    "\n",
    "#среднее\n",
    "overal = 0\n",
    "for i in unique_names:\n",
    "    overal += sum([element[2] for element in logs if element[1] == i])\n",
    "sroveral = overal / len(unique_names)\n",
    "\n",
    "print ('Среднее количество просмотров на уникального пользователя:',(sroveral//0.01)/100)"
   ]
  },
  {
   "cell_type": "markdown",
   "metadata": {},
   "source": [
    "Задание 6"
   ]
  },
  {
   "cell_type": "code",
   "execution_count": 24,
   "metadata": {},
   "outputs": [
    {
     "name": "stdout",
     "output_type": "stream",
     "text": [
      "Введи числа, отделённые пробелом: 1 1\n",
      "1\n"
     ]
    }
   ],
   "source": [
    "next_number = str(input('Введи числа, отделённые пробелом: '))\n",
    "str_numbers_list = list(next_number.split(' '))\n",
    "print(\" \".join(sorted([number for number in set(str_numbers_list) if str_numbers_list.count(number) > 1])))"
   ]
  }
 ],
 "metadata": {
  "kernelspec": {
   "display_name": "Python 3",
   "language": "python",
   "name": "python3"
  },
  "language_info": {
   "codemirror_mode": {
    "name": "ipython",
    "version": 3
   },
   "file_extension": ".py",
   "mimetype": "text/x-python",
   "name": "python",
   "nbconvert_exporter": "python",
   "pygments_lexer": "ipython3",
   "version": "3.7.6"
  }
 },
 "nbformat": 4,
 "nbformat_minor": 4
}
