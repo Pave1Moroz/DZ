{
 "cells": [
  {
   "cell_type": "code",
   "execution_count": 42,
   "id": "c5d38b5c-765c-41d2-898f-3a0abd456a2c",
   "metadata": {},
   "outputs": [],
   "source": [
    "import sympy as sym\n",
    "import matplotlib.pyplot as plt\n",
    "import matplotlib.cm as cm\n",
    "import numpy as np\n",
    "\n",
    "x1 = sym.Symbol('x1')\n",
    "x2 = sym.Symbol('x2')\n",
    "x3 = sym.Symbol('x3')\n",
    "d = sym.Symbol('d')"
   ]
  },
  {
   "cell_type": "code",
   "execution_count": 26,
   "id": "e705968c-b4a1-4b7b-8621-f1263934cab2",
   "metadata": {},
   "outputs": [
    {
     "data": {
      "text/latex": [
       "$\\displaystyle 2 x_{1}^{3} - 3 x_{1} x_{2} - x_{2}^{3} + 2 x_{2} x_{3}^{2}$"
      ],
      "text/plain": [
       "2*x1**3 - 3*x1*x2 - x2**3 + 2*x2*x3**2"
      ]
     },
     "execution_count": 26,
     "metadata": {},
     "output_type": "execute_result"
    }
   ],
   "source": [
    "func = 2*x1**3-3*x1*x2+2*x2*x3**2-x2**3\n",
    "func"
   ]
  },
  {
   "cell_type": "markdown",
   "id": "45281921-c6cc-433a-85c7-a8a34648a47a",
   "metadata": {},
   "source": [
    "."
   ]
  },
  {
   "cell_type": "markdown",
   "id": "7ec5c35e-2015-4309-8539-2569b4675f57",
   "metadata": {},
   "source": [
    "1.1:"
   ]
  },
  {
   "cell_type": "code",
   "execution_count": 27,
   "id": "cfbae1e9-962c-439e-a56b-8f397ef0fd31",
   "metadata": {},
   "outputs": [
    {
     "data": {
      "text/latex": [
       "$\\displaystyle 6 x_{1}^{2} - 3 x_{2}$"
      ],
      "text/plain": [
       "6*x1**2 - 3*x2"
      ]
     },
     "execution_count": 27,
     "metadata": {},
     "output_type": "execute_result"
    }
   ],
   "source": [
    "d_dx1 = sym.diff(func, x1)\n",
    "d_dx1"
   ]
  },
  {
   "cell_type": "code",
   "execution_count": 28,
   "id": "fe85f7d1-2579-4502-974c-a9b8dcb9a5da",
   "metadata": {},
   "outputs": [
    {
     "data": {
      "text/latex": [
       "$\\displaystyle - 3 x_{1} - 3 x_{2}^{2} + 2 x_{3}^{2}$"
      ],
      "text/plain": [
       "-3*x1 - 3*x2**2 + 2*x3**2"
      ]
     },
     "execution_count": 28,
     "metadata": {},
     "output_type": "execute_result"
    }
   ],
   "source": [
    "d_dx2 = sym.diff(func, x2)\n",
    "d_dx2"
   ]
  },
  {
   "cell_type": "code",
   "execution_count": 29,
   "id": "0324538d-a03a-4956-b220-65dd4d0d3631",
   "metadata": {},
   "outputs": [
    {
     "data": {
      "text/latex": [
       "$\\displaystyle 4 x_{2} x_{3}$"
      ],
      "text/plain": [
       "4*x2*x3"
      ]
     },
     "execution_count": 29,
     "metadata": {},
     "output_type": "execute_result"
    }
   ],
   "source": [
    "d_dx3 = sym.diff(func, x3)\n",
    "d_dx3"
   ]
  },
  {
   "cell_type": "code",
   "execution_count": 30,
   "id": "b091b07a-a3e9-494e-9672-4c3bf9ae195c",
   "metadata": {},
   "outputs": [
    {
     "name": "stdout",
     "output_type": "stream",
     "text": [
      "( 21 -7 4 )\n"
     ]
    }
   ],
   "source": [
    "r1 = d_dx1.subs({x1:2, x2: 1})\n",
    "r2 = d_dx2.subs({x1:2, x2: 1, x3: 1})\n",
    "r3 = d_dx3.subs({x2:1, x3: 1})\n",
    "print('(', r1, r2, r3, ')')"
   ]
  },
  {
   "cell_type": "markdown",
   "id": "6e206e8a-c678-4866-a51f-db294d60ab40",
   "metadata": {},
   "source": [
    "1.2:"
   ]
  },
  {
   "cell_type": "code",
   "execution_count": 50,
   "id": "7b4eae78-941b-40dd-b987-6380a3523547",
   "metadata": {},
   "outputs": [
    {
     "data": {
      "text/latex": [
       "$\\displaystyle 12 x_{1}$"
      ],
      "text/plain": [
       "12*x1"
      ]
     },
     "execution_count": 50,
     "metadata": {},
     "output_type": "execute_result"
    }
   ],
   "source": [
    "sym.diff(6*x1**2-3*x2, x1)"
   ]
  },
  {
   "cell_type": "code",
   "execution_count": 53,
   "id": "d5ec54e0-10e6-4659-9c67-4faa1bade42d",
   "metadata": {},
   "outputs": [
    {
     "data": {
      "text/latex": [
       "$\\displaystyle -3$"
      ],
      "text/plain": [
       "-3"
      ]
     },
     "execution_count": 53,
     "metadata": {},
     "output_type": "execute_result"
    }
   ],
   "source": [
    "sym.diff(-3*x1-3*x2**2+2*x3**2, x1)"
   ]
  },
  {
   "cell_type": "code",
   "execution_count": 54,
   "id": "08cdc95a-d199-4909-bc1f-828254a115cf",
   "metadata": {},
   "outputs": [
    {
     "data": {
      "text/latex": [
       "$\\displaystyle 0$"
      ],
      "text/plain": [
       "0"
      ]
     },
     "execution_count": 54,
     "metadata": {},
     "output_type": "execute_result"
    }
   ],
   "source": [
    "sym.diff(6*x1**2-3*x2, x3)"
   ]
  },
  {
   "cell_type": "code",
   "execution_count": 55,
   "id": "464a9c24-38f2-4f12-a8a9-27a6d2294a78",
   "metadata": {},
   "outputs": [
    {
     "data": {
      "text/latex": [
       "$\\displaystyle - 6 x_{2}$"
      ],
      "text/plain": [
       "-6*x2"
      ]
     },
     "execution_count": 55,
     "metadata": {},
     "output_type": "execute_result"
    }
   ],
   "source": [
    "sym.diff(-3*x1-3*x2**2+2*x3**2, x2)"
   ]
  },
  {
   "cell_type": "code",
   "execution_count": 56,
   "id": "b0a3a9df-083b-4ca8-a7e3-3e743c131c17",
   "metadata": {},
   "outputs": [
    {
     "data": {
      "text/latex": [
       "$\\displaystyle 4 x_{3}$"
      ],
      "text/plain": [
       "4*x3"
      ]
     },
     "execution_count": 56,
     "metadata": {},
     "output_type": "execute_result"
    }
   ],
   "source": [
    "sym.diff(-3*x1-3*x2**2+2*x3**2, x3)"
   ]
  },
  {
   "cell_type": "code",
   "execution_count": 57,
   "id": "538d2220-0598-464c-9d57-5209f57382eb",
   "metadata": {},
   "outputs": [
    {
     "data": {
      "text/latex": [
       "$\\displaystyle 4 x_{2}$"
      ],
      "text/plain": [
       "4*x2"
      ]
     },
     "execution_count": 57,
     "metadata": {},
     "output_type": "execute_result"
    }
   ],
   "source": [
    "sym.diff(4*x2*x3, x3)"
   ]
  },
  {
   "cell_type": "code",
   "execution_count": 63,
   "id": "9a3580cd-70fa-46ae-a852-712d4f17146a",
   "metadata": {},
   "outputs": [
    {
     "data": {
      "text/plain": [
       "array([[12*x1, -3, 0],\n",
       "       [-3, -6*x2, 4*x3],\n",
       "       [0, 4*x3, 4*x2]], dtype=object)"
      ]
     },
     "execution_count": 63,
     "metadata": {},
     "output_type": "execute_result"
    }
   ],
   "source": [
    "np.array([[12*x1, -3, 0],\n",
    "[-3, -6*x2, 4*x3],\n",
    "[0, 4*x3, 4*x2]])"
   ]
  },
  {
   "cell_type": "code",
   "execution_count": 65,
   "id": "a193d659-9980-4361-8309-ceee641ade56",
   "metadata": {},
   "outputs": [
    {
     "data": {
      "text/plain": [
       "array([[ 0, -3,  0],\n",
       "       [-3,  0,  0],\n",
       "       [ 0,  0,  0]])"
      ]
     },
     "execution_count": 65,
     "metadata": {},
     "output_type": "execute_result"
    }
   ],
   "source": [
    "#Значение в точке:\n",
    "\n",
    "np.array([[0, -3, 0],\n",
    "[-3, 0, 0],\n",
    "[0, 0, 0]])"
   ]
  },
  {
   "cell_type": "markdown",
   "id": "e10a2721-0e90-41fe-a829-82d82c6862a3",
   "metadata": {},
   "source": [
    "2:"
   ]
  },
  {
   "cell_type": "code",
   "execution_count": 66,
   "id": "b04342b5-bf57-4b5a-92c3-c374f6966d7a",
   "metadata": {},
   "outputs": [],
   "source": [
    "def func2(x1, x2):\n",
    "    return x2**2-x1**2*x2+2*x1*x2"
   ]
  },
  {
   "cell_type": "code",
   "execution_count": 67,
   "id": "3741d995-7cd2-4f0d-9f1f-c4021d11148e",
   "metadata": {},
   "outputs": [],
   "source": [
    "x = np.arange(-65, 65, 0.1)\n",
    "y = np.arange(-65, 65, 0.1)\n",
    "x, y = np.meshgrid(x, y)\n",
    "z = func2(x, y)"
   ]
  },
  {
   "cell_type": "code",
   "execution_count": 68,
   "id": "ca33907a-f44c-4f09-852a-c194e4d16d96",
   "metadata": {},
   "outputs": [
    {
     "data": {
      "image/png": "[encoded data removed]",
      "text/plain": [
       "<Figure size 432x288 with 2 Axes>"
      ]
     },
     "metadata": {
      "needs_background": "light"
     },
     "output_type": "display_data"
    }
   ],
   "source": [
    "fig = plt.figure()\n",
    "ax = fig.gca(projection='3d')\n",
    "\n",
    "surf = ax.plot_surface(x, y, z, cmap=cm.coolwarm, linewidth=0, antialiased=False)\n",
    "\n",
    "fig.colorbar(surf, shrink=0.5, aspect=5)\n",
    "\n",
    "plt.show()"
   ]
  },
  {
   "cell_type": "markdown",
   "id": "ff8af59f-fa26-4e57-8f39-885aad95babe",
   "metadata": {},
   "source": [
    "."
   ]
  },
  {
   "cell_type": "code",
   "execution_count": 71,
   "id": "59badb01-a0ac-4780-b83b-6531154b8f12",
   "metadata": {},
   "outputs": [
    {
     "data": {
      "image/png": "[encoded data removed]",
      "text/plain": [
       "<Figure size 432x288 with 1 Axes>"
      ]
     },
     "metadata": {
      "needs_background": "light"
     },
     "output_type": "display_data"
    }
   ],
   "source": [
    "fig, ax = plt.subplots()\n",
    "cs = ax.contour(x, y, z)"
   ]
  },
  {
   "cell_type": "markdown",
   "id": "77102bda-4c0e-415e-b38c-3f1a55dbe64d",
   "metadata": {},
   "source": [
    "."
   ]
  }
 ],
 "metadata": {
  "kernelspec": {
   "display_name": "Python 3",
   "language": "python",
   "name": "python3"
  },
  "language_info": {
   "codemirror_mode": {
    "name": "ipython",
    "version": 3
   },
   "file_extension": ".py",
   "mimetype": "text/x-python",
   "name": "python",
   "nbconvert_exporter": "python",
   "pygments_lexer": "ipython3",
   "version": "3.8.8"
  }
 },
 "nbformat": 4,
 "nbformat_minor": 5
}
