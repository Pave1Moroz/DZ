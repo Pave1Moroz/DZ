{
 "cells": [
  {
   "cell_type": "markdown",
   "metadata": {},
   "source": [
    "## DZ 6 ПМ"
   ]
  },
  {
   "cell_type": "code",
   "execution_count": 3,
   "metadata": {},
   "outputs": [],
   "source": [
    "import json"
   ]
  },
  {
   "cell_type": "code",
   "execution_count": 23,
   "metadata": {},
   "outputs": [],
   "source": [
    "line_index = 0\n",
    "purchase_list = {}\n",
    "with open('purchase_log.txt', encoding='utf-8') as purchases:\n",
    "    for purchase in purchases:\n",
    "        purchase_list[json.loads(purchase)['user_id']] = json.loads(purchase)['category'] \n",
    "        #Записали пары id:товар в purchase_list с учётом того, что id покупок уникальны  "
   ]
  },
  {
   "cell_type": "code",
   "execution_count": 53,
   "metadata": {},
   "outputs": [
    {
     "data": {
      "text/plain": [
       "13799"
      ]
     },
     "execution_count": 53,
     "metadata": {},
     "output_type": "execute_result"
    }
   ],
   "source": [
    "success_visit_count = 0\n",
    "with open('visit_log.csv') as visits:\n",
    "    with open('funnel.csv', 'w') as funnels:\n",
    "        for visit in visits:\n",
    "            temp_user_id = visit.strip().split(',') #Построчно получили user_id's\n",
    "            if temp_user_id[0] in purchase_list:\n",
    "                temp_user_id.append(purchase_list[temp_user_id[0]]) #Добавили категорию покупки к визитам, где она была\n",
    "                funnels.write(str(temp_user_id[0]) + ', ' + str(temp_user_id[1]) + ', ' + str(temp_user_id[2]) + ', ' + '\\n')\n",
    "                success_visit_count += 1\n",
    "\n",
    "success_visit_count"
   ]
  }
 ],
 "metadata": {
  "kernelspec": {
   "display_name": "Python 3",
   "language": "python",
   "name": "python3"
  },
  "language_info": {
   "codemirror_mode": {
    "name": "ipython",
    "version": 3
   },
   "file_extension": ".py",
   "mimetype": "text/x-python",
   "name": "python",
   "nbconvert_exporter": "python",
   "pygments_lexer": "ipython3",
   "version": "3.8.3"
  }
 },
 "nbformat": 4,
 "nbformat_minor": 4
}
