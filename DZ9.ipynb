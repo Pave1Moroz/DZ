{
 "cells": [
  {
   "cell_type": "code",
   "execution_count": 1,
   "metadata": {},
   "outputs": [],
   "source": [
    "import re"
   ]
  },
  {
   "cell_type": "markdown",
   "metadata": {},
   "source": [
    "Задание 1"
   ]
  },
  {
   "cell_type": "code",
   "execution_count": 2,
   "metadata": {},
   "outputs": [
    {
     "name": "stdout",
     "output_type": "stream",
     "text": [
      "Номер А222ВС96 валиден. Регион: 96\n"
     ]
    }
   ],
   "source": [
    "car_id = 'А222ВС96'\n",
    "\n",
    "a = re.findall(r'[АВЕКМНОРСТУХ]{1}\\d{3}[АВЕКМНОРСТУХ]{2}\\d{2}', car_id)\n",
    "b = re.findall(r'\\d{2}$', car_id)\n",
    "c = [print('Номер', *a, 'валиден. Регион:', *b) if len(a)>0 else print('Номер не валиден')]"
   ]
  },
  {
   "cell_type": "markdown",
   "metadata": {},
   "source": [
    "Задание 2"
   ]
  },
  {
   "cell_type": "code",
   "execution_count": 5,
   "metadata": {},
   "outputs": [],
   "source": [
    "some_string = 'Напишите функцию, которая будет будет удалять все все последовательные повторы слов из из заданной строки'\n",
    "\n",
    "def delete_same_words_one_after_other(some_string):\n",
    "    result_string = re.sub(r'\\b([^\\W\\d_]+)(\\s+\\1)+\\b', r'\\1', some_string)\n",
    "    return result_string"
   ]
  },
  {
   "cell_type": "code",
   "execution_count": 6,
   "metadata": {},
   "outputs": [
    {
     "data": {
      "text/plain": [
       "'Напишите функцию, которая будет удалять все последовательные повторы слов из заданной строки'"
      ]
     },
     "execution_count": 6,
     "metadata": {},
     "output_type": "execute_result"
    }
   ],
   "source": [
    "delete_same_words_one_after_other(some_string)"
   ]
  },
  {
   "cell_type": "markdown",
   "metadata": {},
   "source": [
    "Задание 3"
   ]
  },
  {
   "cell_type": "code",
   "execution_count": 404,
   "metadata": {},
   "outputs": [],
   "source": [
    "some_words = 'Near Field Communication'\n",
    "\n",
    "def acronym(some_words):\n",
    "    a = re.findall(r'\\b([^\\W\\d_]{1})', some_words)\n",
    "    for i in range(len(a)):\n",
    "        a[i] = a[i].capitalize() \n",
    "    print(\"\".join(a))"
   ]
  },
  {
   "cell_type": "code",
   "execution_count": 405,
   "metadata": {},
   "outputs": [
    {
     "name": "stdout",
     "output_type": "stream",
     "text": [
      "NFC\n"
     ]
    }
   ],
   "source": [
    "acronym(some_words)"
   ]
  },
  {
   "cell_type": "markdown",
   "metadata": {},
   "source": [
    "Задание 4"
   ]
  },
  {
   "cell_type": "code",
   "execution_count": 406,
   "metadata": {},
   "outputs": [],
   "source": [
    "emails = ['test@gmail.com', 'xyz@test.in', 'test@ya.ru', 'xyz@mail.ru', 'xyz@ya.ru', 'xyz@gmail.com']\n",
    "\n",
    "def domains(emails):\n",
    "    domain_list = []\n",
    "    results = {}\n",
    "    for email in emails:\n",
    "        domain_list.append(re.findall(r'@\\w+\\.\\w+', email)[0])\n",
    "    unique_domains = set(domain_list)\n",
    "    for domain in unique_domains:\n",
    "        results[domain] = domain_list.count(domain)\n",
    "    for result, count in results.items():\n",
    "        print(result, ':', count)"
   ]
  },
  {
   "cell_type": "code",
   "execution_count": 407,
   "metadata": {},
   "outputs": [
    {
     "name": "stdout",
     "output_type": "stream",
     "text": [
      "@test.in : 1\n",
      "@ya.ru : 2\n",
      "@gmail.com : 2\n",
      "@mail.ru : 1\n"
     ]
    }
   ],
   "source": [
    "domains(emails)"
   ]
  },
  {
   "cell_type": "markdown",
   "metadata": {},
   "source": [
    "Задание 5"
   ]
  },
  {
   "cell_type": "code",
   "execution_count": 408,
   "metadata": {},
   "outputs": [],
   "source": [
    "some_text = 'Эталонной реализацией Python является интерпретатор CPython, поддерживающий большинство активно...'\n",
    "\n",
    "def vowels_or_consonants(some_text):\n",
    "    words = len(re.findall(r'\\b([^\\W\\d_]+)', some_text))\n",
    "    vowels = len(re.findall(r'\\b([а|е|ё|и|о|у|ы|э|ю|я|a|e|i|o|u|y][^\\W\\d_]+)', some_text.lower()))\n",
    "    consonants = words - vowels\n",
    "    print(' Слов на гласные буквы:', vowels, '\\n', 'Cлов на согласные буквы:', consonants)"
   ]
  },
  {
   "cell_type": "code",
   "execution_count": 409,
   "metadata": {},
   "outputs": [
    {
     "name": "stdout",
     "output_type": "stream",
     "text": [
      " Слов на гласные буквы: 4 \n",
      " Cлов на согласные буквы: 5\n"
     ]
    }
   ],
   "source": [
    "vowels_or_consonants(some_text)"
   ]
  },
  {
   "cell_type": "markdown",
   "metadata": {},
   "source": [
    "Задание 6"
   ]
  },
  {
   "cell_type": "code",
   "execution_count": 410,
   "metadata": {},
   "outputs": [],
   "source": [
    "phone = '7(012) 345-67-89'"
   ]
  },
  {
   "cell_type": "code",
   "execution_count": 411,
   "metadata": {},
   "outputs": [],
   "source": [
    "def mobile_number_validation(phone):\n",
    "    if len(re.findall(r'^\\+[\\d]{1}\\([\\d]{3}\\)[\\d]{3} [\\d]{4}$', phone)) > 0:\n",
    "        result_format = '+7-'+phone[3:6]+'-'+phone[7:10]+'-'+phone[11:13]+'-'+phone[13:15]\n",
    "    elif len(re.findall(r'^\\+[\\d]{1}\\([\\d]{3}\\)[\\d]{3}[\\d]{4}$', phone)) > 0:\n",
    "        result_format = '+7-'+phone[3:6]+'-'+phone[7:10]+'-'+phone[10:12]+'-'+phone[12:14]\n",
    "    elif len(re.findall(r'^\\+[\\d]{1}\\([\\d]{3}\\)[\\d]{3}-[\\d]{2}-[\\d]{2}$', phone)) > 0:\n",
    "        result_format = '+7-'+phone[3:6]+'-'+phone[7:16]\n",
    "    elif len(re.findall(r'^\\+[\\d]{1}\\([\\d]{3}\\)[\\d]{3} [\\d]{2} [\\d]{2}$', phone)) > 0:\n",
    "        result_format = '+7-'+phone[3:6]+'-'+phone[7:10]+'-'+phone[11:13]+'-'+phone[14:16]\n",
    "    elif len(re.findall(r'^\\+[\\d]{1} [\\d]{3} [\\d]{3} [\\d]{2} [\\d]{2}$', phone)) > 0:\n",
    "        result_format = '+7-'+phone[3:6]+'-'+phone[7:10]+'-'+phone[11:13]+'-'+phone[14:16]\n",
    "    elif len(re.findall(r'^\\+[\\d]{1} [\\d]{3} [\\d]{3}-[\\d]{2}-[\\d]{2}$', phone)) > 0:\n",
    "        result_format = '+7-'+phone[3:6]+'-'+phone[7:10]+'-'+phone[11:13]+'-'+phone[14:16]\n",
    "    elif len(re.findall(r'^\\+[\\d]{1}[\\d]{3} [\\d]{3}[\\d]{2}[\\d]{2}$', phone)) > 0:\n",
    "        result_format = '+7-'+phone[2:5]+'-'+phone[6:9]+'-'+phone[9:11]+'-'+phone[11:13]\n",
    "    elif len(re.findall(r'^\\+[\\d]{1}[\\d]{3} [\\d]{3} [\\d]{2}[\\d]{2}$', phone)) > 0:\n",
    "        result_format = '+7-'+phone[2:5]+'-'+phone[6:9]+'-'+phone[10:12]+'-'+phone[12:14]\n",
    "    elif len(re.findall(r'^[\\d]{1}\\([\\d]{3}\\)[\\d]{3}-[\\d]{2}-[\\d]{2}$', phone)) > 0:\n",
    "        result_format = '+7-'+phone[2:5]+'-'+phone[6:9]+'-'+phone[10:12]+'-'+phone[13:15]\n",
    "    elif len(re.findall(r'^[\\d]{1}\\([\\d]{3}\\) [\\d]{3}-[\\d]{2}-[\\d]{2}$', phone)) > 0:\n",
    "        result_format = '+7-'+phone[2:5]+'-'+phone[7:10]+'-'+phone[11:13]+'-'+phone[14:16] \n",
    "    else:\n",
    "        result_format = ''\n",
    "    if len(result_format) > 0:\n",
    "        print('Результат:', result_format)\n",
    "    else:\n",
    "        print('Номер не валиден')"
   ]
  },
  {
   "cell_type": "code",
   "execution_count": 412,
   "metadata": {},
   "outputs": [
    {
     "name": "stdout",
     "output_type": "stream",
     "text": [
      "Результат: +7-012-345-67-89\n"
     ]
    }
   ],
   "source": [
    "mobile_number_validation(phone)"
   ]
  },
  {
   "cell_type": "markdown",
   "metadata": {},
   "source": [
    "В реальной задаче можно было бы дописать такие же регулярки для форматов:\n",
    "- +7 xxx xxx-xxxx\n",
    "- +7xxxxxxxxxx\n",
    "- 7(xxx)xxxxxxx\n",
    "- 7(xxx)xxx-xx-xx\n",
    "- 7(xxx)xxx xx xx\n",
    "- (xxx)xxxxxxx\n",
    "- (xxx)xxx-xx-xx\n",
    "- (xxx)xxx xx xx\n",
    "- 7 xxx xxx xx xx\n",
    "- 7 xxx xxx-xx-xx\n",
    "- 7xxx xxxxxxx\n",
    "- 7 xxx xxx xxxx\n",
    "- 7 xxx xxx-xxxx\n",
    "- 7xxxxxxxxxx\n",
    "- xxxxxxxxxx"
   ]
  }
 ],
 "metadata": {
  "kernelspec": {
   "display_name": "Python 3",
   "language": "python",
   "name": "python3"
  },
  "language_info": {
   "codemirror_mode": {
    "name": "ipython",
    "version": 3
   },
   "file_extension": ".py",
   "mimetype": "text/x-python",
   "name": "python",
   "nbconvert_exporter": "python",
   "pygments_lexer": "ipython3",
   "version": "3.8.3"
  }
 },
 "nbformat": 4,
 "nbformat_minor": 4
}
