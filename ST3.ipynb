{
 "cells": [
  {
   "cell_type": "code",
   "execution_count": 1,
   "metadata": {},
   "outputs": [],
   "source": [
    "import numpy as np"
   ]
  },
  {
   "cell_type": "markdown",
   "metadata": {},
   "source": [
    "Рассчитаем мат.ожидание выйгрыша:"
   ]
  },
  {
   "cell_type": "code",
   "execution_count": 227,
   "metadata": {},
   "outputs": [
    {
     "name": "stdout",
     "output_type": "stream",
     "text": [
      "Из каждых 1000 попыток примерно 204 будут призовыми\n",
      "На каждую потраченную 1000 попыток (рублей), выйграно будет 795.2\n"
     ]
    }
   ],
   "source": [
    "loss_count = 1000    -    5    -    9    -    90    -    10    -    90\n",
    "                     #Числа ХХХ  Числа *77  Числа **7  Числа *00  Числа **0 \n",
    "                                #но не 777  но не 777             но не *00\n",
    "                                            #и не *77\n",
    "            \n",
    "print('Из каждых 1000 попыток примерно', 1000 - loss_count, 'будут призовыми')\n",
    "\n",
    "math_reward = (0.001 * 200) + (0.001 * 100) + (0.001 * 50) + (0.001 * 15) + (0.001 * 10) + \\\n",
    "              (0.009 * 5) + (0.09 * 3) + (0.01 * 2) + (0.09 * 1) - (loss_count * 1)\n",
    "\n",
    "print('На каждую потраченную 1000 попыток (рублей), выйграно будет', math_reward * -1)"
   ]
  },
  {
   "cell_type": "code",
   "execution_count": 188,
   "metadata": {},
   "outputs": [
    {
     "name": "stdout",
     "output_type": "stream",
     "text": [
      "Из 10000000 попыток, с выйгрышем были 2038992 Выйгрыш составил 7965430 рублей.\n"
     ]
    }
   ],
   "source": [
    "attempts = 10000000\n",
    "success_attempts = 0\n",
    "reward = 0\n",
    "\n",
    "for i in range(attempts):\n",
    "    random_number = np.random.randint(0, 1000)\n",
    "    if (random_number % 10 == 0) and (random_number % 100 > 0):\n",
    "        reward += 1\n",
    "        success_attempts += 1\n",
    "    if random_number % 100 == 0:\n",
    "        reward += 2\n",
    "        success_attempts += 1\n",
    "    if ((random_number-7)%10 == 0) and (random_number != 777) and ((random_number-77)%100 > 0):\n",
    "        reward += 3\n",
    "        success_attempts += 1\n",
    "    if ((random_number-77)%100 == 0) and (random_number != 777):\n",
    "        reward += 5\n",
    "        success_attempts += 1\n",
    "    if random_number == 111:\n",
    "        reward += 10\n",
    "        success_attempts += 1\n",
    "    if random_number == 333:\n",
    "        reward += 15\n",
    "        success_attempts += 1\n",
    "    if random_number == 555:\n",
    "        reward += 50\n",
    "        success_attempts += 1\n",
    "    if random_number == 999:\n",
    "        reward += 100\n",
    "        success_attempts += 1\n",
    "    if random_number == 777:\n",
    "        reward += 200\n",
    "        success_attempts += 1\n",
    "        \n",
    "print('Из', attempts,'попыток, с выйгрышем были', success_attempts, 'Выйгрыш составил', reward,'рублей.')"
   ]
  },
  {
   "cell_type": "code",
   "execution_count": null,
   "metadata": {},
   "outputs": [],
   "source": []
  }
 ],
 "metadata": {
  "kernelspec": {
   "display_name": "Python 3",
   "language": "python",
   "name": "python3"
  },
  "language_info": {
   "codemirror_mode": {
    "name": "ipython",
    "version": 3
   },
   "file_extension": ".py",
   "mimetype": "text/x-python",
   "name": "python",
   "nbconvert_exporter": "python",
   "pygments_lexer": "ipython3",
   "version": "3.8.3"
  }
 },
 "nbformat": 4,
 "nbformat_minor": 4
}
