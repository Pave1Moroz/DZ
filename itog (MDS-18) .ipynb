{
 "cells": [
  {
   "cell_type": "code",
   "execution_count": 1,
   "id": "7a354d42-c5e0-4fe3-aa0a-c8a4cea31300",
   "metadata": {},
   "outputs": [],
   "source": [
    "import sympy as sym\n",
    "x = sym.Symbol('x')\n",
    "from sympy import tan, sin, cos\n",
    "\n",
    "import numpy as np\n",
    "import pandas as pd\n",
    "\n",
    "import matplotlib.pyplot as plt\n",
    "from scipy.optimize import minimize\n",
    "\n",
    "from scipy import stats\n",
    "import seaborn as sns"
   ]
  },
  {
   "cell_type": "markdown",
   "id": "c8cdf807-d500-4ac8-8d75-a0181f19cdb2",
   "metadata": {},
   "source": [
    "1(a):"
   ]
  },
  {
   "cell_type": "code",
   "execution_count": 2,
   "id": "1ef2e800-8546-4a37-94d9-4e412effe72e",
   "metadata": {},
   "outputs": [],
   "source": [
    "raitings = np.array([[ 4,  4,  9,  4,  1,  6, 10,  7,  9,  6,  9,  2,  8,  6,  6],\n",
    "                     [ 9,  2,  5, 10,  7,  8, 10,  5,  6,  2,  1,  6,  8,  9,  7],\n",
    "                     [ 1,  6,  8,  8,  4,  9,  3,  8, 10,  5,  2,  6,  8,  1,  6],\n",
    "                     [ 6,  1,  9,  7,  7,  9,  2,  3,  5,  1,  6,  6,  3,  2,  7],\n",
    "                     [ 3,  7,  3,  5,  7,  9,  9,  6,  2,  9,  1,  2,  8, 10,  6],\n",
    "                     [ 8,  3,  7,  3,  8,  6,  1,  8,  8,  6,  1,  9,  4, 10,  1],\n",
    "                     [ 9,  8,  4,  8,  8, 10,  6,  1,  1,  2,  9,  5,  2,  7,  2],\n",
    "                     [ 4,  1,  6,  4,  3, 10,  4,  4,  2,  8,  7,  9,  3,  8,  3],\n",
    "                     [ 2,  7,  7,  6, 10,  6,  8,  9,  8,  6, 10,  1,  7, 10,  4],\n",
    "                     [ 5, 10,  8,  8,  9,  7,  2,  9,  9, 10,  8,  8,  8,  6, 10]])\n",
    "\n",
    "user_x = [2, 4, 3, 5, 10, 6, 10, 7, 9, 5, 9, 1, 2, 6, 6]"
   ]
  },
  {
   "cell_type": "code",
   "execution_count": 3,
   "id": "91d9c49e-ef6e-42d1-8e84-515b933d82c1",
   "metadata": {},
   "outputs": [
    {
     "name": "stdout",
     "output_type": "stream",
     "text": [
      "[2, 4, 3, 5, 10, 6, 10, 7, 9, 5, 9, 1, 2, 6, 6]  *  [ 2  7  7  6 10  6  8  9  8  6 10  1  7 10  4]  =  0.9491168788185628\n"
     ]
    }
   ],
   "source": [
    "near_res = []\n",
    "for i in range(10):\n",
    "    near_res.append(np.dot(user_x, raitings[i])/(np.linalg.norm(user_x)*np.linalg.norm(raitings[i])))\n",
    "    \n",
    "index = np.argmax(near_res)\n",
    "print(user_x, ' * ', raitings[index], ' = ', near_res[index])"
   ]
  },
  {
   "cell_type": "markdown",
   "id": "7eba45c6-35bf-452d-a04d-f2c23e25ce3d",
   "metadata": {},
   "source": [
    "UPD: Да, конечно нужно брать макисмальное значение (cos(0) = 1)\n",
    "\n",
    "В общем случае к заданному юзеру может быть несколько пар с одинаково максимальным значением"
   ]
  },
  {
   "cell_type": "markdown",
   "id": "18aa52db-4f84-4693-8ff3-fed820f7fcae",
   "metadata": {},
   "source": [
    "1(b):"
   ]
  },
  {
   "cell_type": "markdown",
   "id": "00dde8c9-353f-46bd-b1fd-152dcf2df6e2",
   "metadata": {},
   "source": [
    "Интуиция подсказывает что для уменьшения размерности можно использовать PCA анализ, который сохранит максимальную дисперсию в итоговых 5 столбцах. Cохраним как можно больше полезной информации о данных, оставив только 5 фильмов, для которых пользователи ставят наиболее разные оценки"
   ]
  },
  {
   "cell_type": "markdown",
   "id": "bf5d421e-1271-4fc9-9e7d-8f11966cdd77",
   "metadata": {},
   "source": [
    "2."
   ]
  },
  {
   "cell_type": "code",
   "execution_count": 4,
   "id": "0c6aab6d-8d3a-4f54-95a4-c3921cd11278",
   "metadata": {},
   "outputs": [
    {
     "data": {
      "text/latex": [
       "$\\displaystyle \\tan^{2}{\\left(\\sin{\\left(x \\right)} + \\cos{\\left(2 x + 3 \\right)} \\right)}$"
      ],
      "text/plain": [
       "tan(sin(x) + cos(2*x + 3))**2"
      ]
     },
     "execution_count": 4,
     "metadata": {},
     "output_type": "execute_result"
    }
   ],
   "source": [
    "func = sym.tan((sin(x))+cos(2*x+3))**2\n",
    "func"
   ]
  },
  {
   "cell_type": "code",
   "execution_count": 5,
   "id": "65967703-2b3d-4096-92bc-d32130e34ac0",
   "metadata": {},
   "outputs": [
    {
     "data": {
      "text/latex": [
       "$\\displaystyle 2 \\left(- 2 \\sin{\\left(2 x + 3 \\right)} + \\cos{\\left(x \\right)}\\right) \\left(\\tan^{2}{\\left(\\sin{\\left(x \\right)} + \\cos{\\left(2 x + 3 \\right)} \\right)} + 1\\right) \\tan{\\left(\\sin{\\left(x \\right)} + \\cos{\\left(2 x + 3 \\right)} \\right)}$"
      ],
      "text/plain": [
       "2*(-2*sin(2*x + 3) + cos(x))*(tan(sin(x) + cos(2*x + 3))**2 + 1)*tan(sin(x) + cos(2*x + 3))"
      ]
     },
     "execution_count": 5,
     "metadata": {},
     "output_type": "execute_result"
    }
   ],
   "source": [
    "d_dx = sym.diff(func, x)\n",
    "d_dx"
   ]
  },
  {
   "cell_type": "code",
   "execution_count": 6,
   "id": "17814588-e7bd-410d-9d89-f99c73f55302",
   "metadata": {},
   "outputs": [
    {
     "data": {
      "text/latex": [
       "$\\displaystyle 2 \\left(1 + \\tan^{2}{\\left(\\cos{\\left(5 \\right)} + \\sin{\\left(1 \\right)} \\right)}\\right) \\left(\\cos{\\left(1 \\right)} - 2 \\sin{\\left(5 \\right)}\\right) \\tan{\\left(\\cos{\\left(5 \\right)} + \\sin{\\left(1 \\right)} \\right)}$"
      ],
      "text/plain": [
       "2*(1 + tan(cos(5) + sin(1))**2)*(cos(1) - 2*sin(5))*tan(cos(5) + sin(1))"
      ]
     },
     "execution_count": 6,
     "metadata": {},
     "output_type": "execute_result"
    }
   ],
   "source": [
    "d_dx.subs({x:1})"
   ]
  },
  {
   "cell_type": "markdown",
   "id": "7ffe31ab-850e-44aa-9c61-1d527791b92f",
   "metadata": {},
   "source": [
    "Производная на бумаге: https://drive.google.com/file/d/1NQEvUAsa2hTqy3X2wiGEPw7yuj3rDVJh/view?usp=sharing "
   ]
  },
  {
   "cell_type": "markdown",
   "id": "16b28362-5829-4175-af0a-24e06a6b979a",
   "metadata": {},
   "source": [
    "3."
   ]
  },
  {
   "cell_type": "code",
   "execution_count": 7,
   "id": "3f65d6cb-0288-40a5-bc20-93fc61a5bef4",
   "metadata": {},
   "outputs": [
    {
     "data": {
      "image/png": "[encoded data removed]",
      "text/plain": [
       "<Figure size 432x288 with 1 Axes>"
      ]
     },
     "metadata": {
      "needs_background": "light"
     },
     "output_type": "display_data"
    }
   ],
   "source": [
    "def f(x, a, b):\n",
    "    return np.e**a * np.sin(b*x) + x\n",
    "\n",
    "x = np.array([0.        , 0.26315789, 0.52631579, 0.78947368, 1.05263158,\n",
    "              1.31578947, 1.57894737, 1.84210526, 2.10526316, 2.36842105,\n",
    "              2.63157895, 2.89473684, 3.15789474, 3.42105263, 3.68421053,\n",
    "              3.94736842, 4.21052632, 4.47368421, 4.73684211, 5.        ])\n",
    "\n",
    "fx = np.array([  0.        , -12.01819092, -18.90968634, -17.68786571,\n",
    "                -8.7529108 ,   4.27524517,  16.06801336,  21.81250213,\n",
    "                19.22059845,   9.48411207,  -3.22273056, -13.48576488,\n",
    "               -16.91096359, -11.95866834,  -0.58630088,  12.56873816,\n",
    "                22.12489421,  24.20292139,  18.04522521,   6.33211092])\n",
    "\n",
    "plt.plot(x, fx)\n",
    "plt.show()"
   ]
  },
  {
   "cell_type": "code",
   "execution_count": 19,
   "id": "9c50c25a-bf0a-49aa-875a-ce45b360f709",
   "metadata": {},
   "outputs": [
    {
     "data": {
      "text/plain": [
       "{'[1.2999999999985958, 1.2999999999985958]': 239.0570570600712,\n",
       " '[1.399999999998596, 1.399999999998596]': 234.97846225931872,\n",
       " '[1.499999999998596, 1.499999999998596]': 232.10771227838922,\n",
       " '[1.599999999998596, 1.599999999998596]': 230.4288886759933,\n",
       " '[1.6999999999985962, 1.6999999999985962]': 231.26744238036656,\n",
       " '[1.7999999999985963, 1.7999999999985963]': 236.40248614415125}"
      ]
     },
     "execution_count": 19,
     "metadata": {},
     "output_type": "execute_result"
    }
   ],
   "source": [
    "#Найдем варианты начальных x0 для optimize.minimize\n",
    "def error(params):\n",
    "    return np.sum(np.abs(fx - f(x, params[0], params[1])))\n",
    "\n",
    "a0 = -100\n",
    "b0 = -100\n",
    "\n",
    "goodTries = {}\n",
    "\n",
    "for i in range (2000):\n",
    "    if error([a0, b0]) < 240:\n",
    "        goodTries[str([a0, b0])] = error([a0, b0])\n",
    "        a0 += 0.1\n",
    "        b0 += 0.1\n",
    "    else:\n",
    "        a0 += 0.1\n",
    "        b0 += 0.1\n",
    "        \n",
    "goodTries"
   ]
  },
  {
   "cell_type": "code",
   "execution_count": 26,
   "id": "321adfdf-25e4-4f00-9c44-b3e28236e747",
   "metadata": {},
   "outputs": [
    {
     "data": {
      "text/plain": [
       " final_simplex: (array([[ -35.26875   , -119.2640625 ],\n",
       "       [ -35.26875001, -119.2640625 ],\n",
       "       [ -35.26875001, -119.2640625 ]]), array([244.50954835, 244.50954835, 244.50954835]))\n",
       "           fun: 244.50954835\n",
       "       message: 'Optimization terminated successfully.'\n",
       "          nfev: 150\n",
       "           nit: 42\n",
       "        status: 0\n",
       "       success: True\n",
       "             x: array([ -35.26875  , -119.2640625])"
      ]
     },
     "execution_count": 26,
     "metadata": {},
     "output_type": "execute_result"
    }
   ],
   "source": [
    "x0 = np.array([99, -99])\n",
    "\n",
    "res = minimize(error, x0, method='nelder-mead', options={'xtol': 1e-8, 'disp': False})\n",
    "res"
   ]
  },
  {
   "cell_type": "markdown",
   "id": "8913cdf4-6c95-4ca1-a1f3-af5b42e139f6",
   "metadata": {},
   "source": [
    "Разные методы внутри функции minimize не дают значения меньше чем 228.3567196969465\n",
    "В простой симуляции с разными значениями a и b ошибка также намного больше\n",
    "\n",
    "Возможно, что-то не так с начальной функцией ?\n",
    "\n",
    "Из x и fx видно, что f(0) = 0, подставив эти значения в начальную функцию получим: e^a = 0\n",
    "\n",
    "f(5) ≈ 6.3, значит e^a * sin(b*x) ≈ 1,3, но синус ограничен по модулю единицей"
   ]
  },
  {
   "cell_type": "markdown",
   "id": "6a2cdc39-15c8-4569-873d-76905c2e9eaa",
   "metadata": {},
   "source": [
    "4."
   ]
  },
  {
   "cell_type": "code",
   "execution_count": null,
   "id": "a7eb3f6e-b5f2-4314-a8e4-8667a97de5cf",
   "metadata": {},
   "outputs": [],
   "source": [
    "uniform_rv = stats.uniform(loc=-50, scale=100)\n",
    "\n",
    "m_list = []\n",
    "\n",
    "for i in range(1000):\n",
    "    data = uniform_rv.rvs(size=50)\n",
    "    m_list.append(data.mean())\n",
    "    \n",
    "sns.histplot(x=m_list)"
   ]
  },
  {
   "cell_type": "markdown",
   "id": "355dfb7b-64d0-4168-9f5a-bc9c140e7bd8",
   "metadata": {},
   "source": [
    "5."
   ]
  },
  {
   "cell_type": "code",
   "execution_count": null,
   "id": "33743d66-85cd-45a2-b395-09a2470c3ffe",
   "metadata": {},
   "outputs": [],
   "source": [
    "m = np.array([[1, 4],\n",
    "              [1, 1]])\n",
    "m"
   ]
  },
  {
   "cell_type": "code",
   "execution_count": null,
   "id": "4ca122ef-e74e-463b-b470-22e1410fad48",
   "metadata": {},
   "outputs": [],
   "source": [
    "np.linalg.eig(m)"
   ]
  },
  {
   "cell_type": "markdown",
   "id": "b3915aaa-a565-4189-ba86-ac2b77007f9e",
   "metadata": {},
   "source": [
    "Решение на бумаге: https://drive.google.com/file/d/1oA407JMNSa42NQUknJbnQx4hI7E5d8Y5/view?usp=sharing"
   ]
  },
  {
   "cell_type": "markdown",
   "id": "d2c48eb0-125c-4983-b2ee-5066bb6b1eaa",
   "metadata": {},
   "source": [
    "."
   ]
  }
 ],
 "metadata": {
  "kernelspec": {
   "display_name": "Python 3",
   "language": "python",
   "name": "python3"
  },
  "language_info": {
   "codemirror_mode": {
    "name": "ipython",
    "version": 3
   },
   "file_extension": ".py",
   "mimetype": "text/x-python",
   "name": "python",
   "nbconvert_exporter": "python",
   "pygments_lexer": "ipython3",
   "version": "3.8.8"
  }
 },
 "nbformat": 4,
 "nbformat_minor": 5
}
