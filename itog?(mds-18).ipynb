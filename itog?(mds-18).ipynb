{
 "cells": [
  {
   "cell_type": "code",
   "execution_count": 1,
   "id": "5443b411-b958-45ad-b03f-eb7e1658b310",
   "metadata": {},
   "outputs": [],
   "source": [
    "import sympy as sym\n",
    "x = sym.Symbol('x')\n",
    "from sympy import tan, sin, cos\n",
    "\n",
    "import numpy as np\n",
    "import pandas as pd\n",
    "\n",
    "import matplotlib.pyplot as plt\n",
    "from mpl_toolkits.mplot3d import Axes3D\n",
    "from matplotlib import cm\n",
    "from matplotlib.ticker import LinearLocator, FormatStrFormatter\n",
    "\n",
    "from scipy.optimize import minimize\n",
    "\n",
    "from scipy import stats\n",
    "import seaborn as sns"
   ]
  },
  {
   "cell_type": "markdown",
   "id": "98ccf241-1b3b-4b25-8887-47f8893aacdc",
   "metadata": {},
   "source": [
    "1(a):"
   ]
  },
  {
   "cell_type": "code",
   "execution_count": 2,
   "id": "2bf67ae8-abb6-4b60-b621-7b7be000d1bf",
   "metadata": {},
   "outputs": [],
   "source": [
    "raitings = np.array([[ 4,  4,  9,  4,  1,  6, 10,  7,  9,  6,  9,  2,  8,  6,  6],\n",
    "                     [ 9,  2,  5, 10,  7,  8, 10,  5,  6,  2,  1,  6,  8,  9,  7],\n",
    "                     [ 1,  6,  8,  8,  4,  9,  3,  8, 10,  5,  2,  6,  8,  1,  6],\n",
    "                     [ 6,  1,  9,  7,  7,  9,  2,  3,  5,  1,  6,  6,  3,  2,  7],\n",
    "                     [ 3,  7,  3,  5,  7,  9,  9,  6,  2,  9,  1,  2,  8, 10,  6],\n",
    "                     [ 8,  3,  7,  3,  8,  6,  1,  8,  8,  6,  1,  9,  4, 10,  1],\n",
    "                     [ 9,  8,  4,  8,  8, 10,  6,  1,  1,  2,  9,  5,  2,  7,  2],\n",
    "                     [ 4,  1,  6,  4,  3, 10,  4,  4,  2,  8,  7,  9,  3,  8,  3],\n",
    "                     [ 2,  7,  7,  6, 10,  6,  8,  9,  8,  6, 10,  1,  7, 10,  4],\n",
    "                     [ 5, 10,  8,  8,  9,  7,  2,  9,  9, 10,  8,  8,  8,  6, 10]])\n",
    "\n",
    "user_x = [2, 4, 3, 5, 10, 6, 10, 7, 9, 5, 9, 1, 2, 6, 6]"
   ]
  },
  {
   "cell_type": "code",
   "execution_count": 3,
   "id": "c37c9a84-ffc4-4949-bb39-35b002bddd1d",
   "metadata": {},
   "outputs": [
    {
     "name": "stdout",
     "output_type": "stream",
     "text": [
      "[2, 4, 3, 5, 10, 6, 10, 7, 9, 5, 9, 1, 2, 6, 6]  *  [ 4  4  9  4  1  6 10  7  9  6  9  2  8  6  6]  =  0.8733037233300475\n",
      "[2, 4, 3, 5, 10, 6, 10, 7, 9, 5, 9, 1, 2, 6, 6]  *  [ 9  2  5 10  7  8 10  5  6  2  1  6  8  9  7]  =  0.812513678105866\n",
      "[2, 4, 3, 5, 10, 6, 10, 7, 9, 5, 9, 1, 2, 6, 6]  *  [ 1  6  8  8  4  9  3  8 10  5  2  6  8  1  6]  =  0.7757485785878657\n",
      "[2, 4, 3, 5, 10, 6, 10, 7, 9, 5, 9, 1, 2, 6, 6]  *  [6 1 9 7 7 9 2 3 5 1 6 6 3 2 7]  =  0.7757869443436181\n",
      "[2, 4, 3, 5, 10, 6, 10, 7, 9, 5, 9, 1, 2, 6, 6]  *  [ 3  7  3  5  7  9  9  6  2  9  1  2  8 10  6]  =  0.8281065071915114\n",
      "[2, 4, 3, 5, 10, 6, 10, 7, 9, 5, 9, 1, 2, 6, 6]  *  [ 8  3  7  3  8  6  1  8  8  6  1  9  4 10  1]  =  0.7345739745912411\n",
      "[2, 4, 3, 5, 10, 6, 10, 7, 9, 5, 9, 1, 2, 6, 6]  *  [ 9  8  4  8  8 10  6  1  1  2  9  5  2  7  2]  =  0.7886605550383288\n",
      "[2, 4, 3, 5, 10, 6, 10, 7, 9, 5, 9, 1, 2, 6, 6]  *  [ 4  1  6  4  3 10  4  4  2  8  7  9  3  8  3]  =  0.7542705662080117\n",
      "[2, 4, 3, 5, 10, 6, 10, 7, 9, 5, 9, 1, 2, 6, 6]  *  [ 2  7  7  6 10  6  8  9  8  6 10  1  7 10  4]  =  0.9491168788185628\n",
      "[2, 4, 3, 5, 10, 6, 10, 7, 9, 5, 9, 1, 2, 6, 6]  *  [ 5 10  8  8  9  7  2  9  9 10  8  8  8  6 10]  =  0.8494575051752423\n",
      "Наилучшее совпадение с пользователем:  8\n",
      "[2, 4, 3, 5, 10, 6, 10, 7, 9, 5, 9, 1, 2, 6, 6]  *  [ 2  7  7  6 10  6  8  9  8  6 10  1  7 10  4]  =  0.9491168788185628\n"
     ]
    }
   ],
   "source": [
    "near_res = []\n",
    "for i in range(10):\n",
    "    near_res.append(np.dot(user_x, raitings[i])/(np.linalg.norm(user_x)*np.linalg.norm(raitings[i])))\n",
    "\n",
    "for i in range(10):\n",
    "    print(user_x, ' * ', raitings[i], ' = ', near_res[i])\n",
    "    \n",
    "#Наилучшее совпадение:\n",
    "index = np.argmax(near_res)\n",
    "print('Наилучшее совпадение с пользователем: ', index)\n",
    "print(user_x, ' * ', raitings[index], ' = ', near_res[index])"
   ]
  },
  {
   "cell_type": "markdown",
   "id": "16eebca1-a1be-4138-9935-a0f9be28a0d8",
   "metadata": {},
   "source": [
    "UPD: Да, конечно нужно брать макисмальное значение (cos(0) = 1)\n",
    "\n",
    "В общем случае к заданному юзеру может быть несколько пар с одинаково максимальным значением"
   ]
  },
  {
   "cell_type": "markdown",
   "id": "8b7670f4-bdb0-4583-95cf-785e6c400f4f",
   "metadata": {},
   "source": [
    "UPD2: Не совсем понял что значит вывести все пары, но кажется имелось в виду то что вроде того что выше:\n",
    "\n",
    "можно вывести на экран, записать в отдельную переменную и вывести её на экран, кажется это вообще не принципиально)\n",
    "        \n",
    "или например просто user_x * пользователь из базы = результат, как выше"
   ]
  },
  {
   "cell_type": "markdown",
   "id": "435ff82d-847b-4b65-ac91-af3abba6ace9",
   "metadata": {},
   "source": [
    "1(b):"
   ]
  },
  {
   "cell_type": "markdown",
   "id": "9ec9ab09-36e3-4dfe-8126-65213e3a04c4",
   "metadata": {},
   "source": [
    "Интуиция подсказывает что для уменьшения размерности можно использовать PCA анализ, который сохранит максимальную дисперсию в итоговых 5 столбцах. Cохраним как можно больше полезной информации о данных, оставив только 5 фильмов, для которых пользователи ставят наиболее разные оценки"
   ]
  },
  {
   "cell_type": "markdown",
   "id": "79b71c19-cb21-41f8-b4ca-2036be8625a1",
   "metadata": {},
   "source": [
    "2."
   ]
  },
  {
   "cell_type": "code",
   "execution_count": 4,
   "id": "c45c5cd0-257b-416d-9711-20a8c1dc9740",
   "metadata": {},
   "outputs": [
    {
     "data": {
      "text/latex": [
       "$\\displaystyle \\tan^{2}{\\left(\\sin{\\left(x \\right)} + \\cos{\\left(2 x + 3 \\right)} \\right)}$"
      ],
      "text/plain": [
       "tan(sin(x) + cos(2*x + 3))**2"
      ]
     },
     "execution_count": 4,
     "metadata": {},
     "output_type": "execute_result"
    }
   ],
   "source": [
    "func = sym.tan((sin(x))+cos(2*x+3))**2\n",
    "func"
   ]
  },
  {
   "cell_type": "code",
   "execution_count": 5,
   "id": "09c145a9-7aac-4592-a653-b1d16749094d",
   "metadata": {},
   "outputs": [
    {
     "data": {
      "text/latex": [
       "$\\displaystyle 2 \\left(- 2 \\sin{\\left(2 x + 3 \\right)} + \\cos{\\left(x \\right)}\\right) \\left(\\tan^{2}{\\left(\\sin{\\left(x \\right)} + \\cos{\\left(2 x + 3 \\right)} \\right)} + 1\\right) \\tan{\\left(\\sin{\\left(x \\right)} + \\cos{\\left(2 x + 3 \\right)} \\right)}$"
      ],
      "text/plain": [
       "2*(-2*sin(2*x + 3) + cos(x))*(tan(sin(x) + cos(2*x + 3))**2 + 1)*tan(sin(x) + cos(2*x + 3))"
      ]
     },
     "execution_count": 5,
     "metadata": {},
     "output_type": "execute_result"
    }
   ],
   "source": [
    "d_dx = sym.diff(func, x)\n",
    "d_dx"
   ]
  },
  {
   "cell_type": "code",
   "execution_count": 6,
   "id": "f7186a3f-a9ac-4c22-8567-2557df0e661c",
   "metadata": {},
   "outputs": [
    {
     "data": {
      "text/latex": [
       "$\\displaystyle 2 \\left(1 + \\tan^{2}{\\left(\\cos{\\left(5 \\right)} + \\sin{\\left(1 \\right)} \\right)}\\right) \\left(\\cos{\\left(1 \\right)} - 2 \\sin{\\left(5 \\right)}\\right) \\tan{\\left(\\cos{\\left(5 \\right)} + \\sin{\\left(1 \\right)} \\right)}$"
      ],
      "text/plain": [
       "2*(1 + tan(cos(5) + sin(1))**2)*(cos(1) - 2*sin(5))*tan(cos(5) + sin(1))"
      ]
     },
     "execution_count": 6,
     "metadata": {},
     "output_type": "execute_result"
    }
   ],
   "source": [
    "d_dx.subs({x:1})"
   ]
  },
  {
   "cell_type": "markdown",
   "id": "b5c334ee-aa4d-43ef-aacf-9dffd0b475d5",
   "metadata": {},
   "source": [
    "Производная на бумаге: https://drive.google.com/file/d/1NQEvUAsa2hTqy3X2wiGEPw7yuj3rDVJh/view?usp=sharing "
   ]
  },
  {
   "cell_type": "markdown",
   "id": "6e331ecb-1b00-4b97-8546-98ce91ba7211",
   "metadata": {},
   "source": [
    "3."
   ]
  },
  {
   "cell_type": "code",
   "execution_count": 88,
   "id": "db84662e-70a3-4bdf-8142-0650397ad69c",
   "metadata": {},
   "outputs": [
    {
     "data": {
      "image/png": "[encoded data removed]",
      "text/plain": [
       "<Figure size 432x288 with 1 Axes>"
      ]
     },
     "metadata": {
      "needs_background": "light"
     },
     "output_type": "display_data"
    }
   ],
   "source": [
    "def f(x, a, b):\n",
    "    return np.e**a * np.sin(b*x) + x\n",
    "\n",
    "x = np.array([0.        , 0.26315789, 0.52631579, 0.78947368, 1.05263158,\n",
    "              1.31578947, 1.57894737, 1.84210526, 2.10526316, 2.36842105,\n",
    "              2.63157895, 2.89473684, 3.15789474, 3.42105263, 3.68421053,\n",
    "              3.94736842, 4.21052632, 4.47368421, 4.73684211, 5.        ])\n",
    "\n",
    "fx = np.array([  0.        , -12.01819092, -18.90968634, -17.68786571,\n",
    "                -8.7529108 ,   4.27524517,  16.06801336,  21.81250213,\n",
    "                19.22059845,   9.48411207,  -3.22273056, -13.48576488,\n",
    "               -16.91096359, -11.95866834,  -0.58630088,  12.56873816,\n",
    "                22.12489421,  24.20292139,  18.04522521,   6.33211092])\n",
    "\n",
    "plt.plot(x, fx)\n",
    "plt.show()"
   ]
  },
  {
   "cell_type": "code",
   "execution_count": 146,
   "id": "fd4cb218-7101-4f31-9dd4-bf251d920532",
   "metadata": {},
   "outputs": [],
   "source": [
    "def error(params):\n",
    "    return np.sum(np.abs(fx - f(x, params[0], params[1])))"
   ]
  },
  {
   "cell_type": "code",
   "execution_count": 202,
   "id": "151a7099-380a-4388-bf20-f2f56d0016fe",
   "metadata": {},
   "outputs": [
    {
     "name": "stdout",
     "output_type": "stream",
     "text": [
      " final_simplex: (array([[  3.0000002 , -26.37610422],\n",
      "       [  2.99999981, -26.37610422],\n",
      "       [  3.00000016, -26.37610394]]), array([6.43982417e-05, 6.84070956e-05, 1.60352799e-04]))\n",
      "           fun: 6.439824170278996e-05\n",
      "       message: 'Optimization terminated successfully.'\n",
      "          nfev: 234\n",
      "           nit: 121\n",
      "        status: 0\n",
      "       success: True\n",
      "             x: array([  3.0000002 , -26.37610422])\n",
      " final_simplex: (array([[  2.9999999 , -26.37610409],\n",
      "       [  2.99999991, -26.37610433],\n",
      "       [  3.00000038, -26.37610429]]), array([5.63898133e-05, 1.14283044e-04, 1.27132727e-04]))\n",
      "           fun: 5.638981334676885e-05\n",
      "       message: 'Optimization terminated successfully.'\n",
      "          nfev: 133\n",
      "           nit: 68\n",
      "        status: 0\n",
      "       success: True\n",
      "             x: array([  2.9999999 , -26.37610409])\n",
      " final_simplex: (array([[  3.00000026, -26.3761041 ],\n",
      "       [  3.00000009, -26.37610433],\n",
      "       [  2.99999938, -26.37610405]]), array([8.33146723e-05, 1.13882530e-04, 1.71934127e-04]))\n",
      "           fun: 8.331467232736145e-05\n",
      "       message: 'Optimization terminated successfully.'\n",
      "          nfev: 134\n",
      "           nit: 69\n",
      "        status: 0\n",
      "       success: True\n",
      "             x: array([  3.00000026, -26.3761041 ])\n",
      " final_simplex: (array([[  2.99999975, -26.37610418],\n",
      "       [  3.00000027, -26.37610406],\n",
      "       [  2.99999995, -26.37610433]]), array([6.90258288e-05, 1.00629873e-04, 1.12860962e-04]))\n",
      "           fun: 6.902582881984642e-05\n",
      "       message: 'Optimization terminated successfully.'\n",
      "          nfev: 282\n",
      "           nit: 143\n",
      "        status: 0\n",
      "       success: True\n",
      "             x: array([  2.99999975, -26.37610418])\n",
      " final_simplex: (array([[  3.00000023, -26.37610408],\n",
      "       [  2.99999974, -26.37610407],\n",
      "       [  3.00000018, -26.37610429]]), array([8.30907488e-05, 9.04594754e-05, 9.32843950e-05]))\n",
      "           fun: 8.309074880052947e-05\n",
      "       message: 'Optimization terminated successfully.'\n",
      "          nfev: 131\n",
      "           nit: 66\n",
      "        status: 0\n",
      "       success: True\n",
      "             x: array([  3.00000023, -26.37610408])\n",
      " final_simplex: (array([[  2.99999984, -26.37610404],\n",
      "       [  2.99999987, -26.37610433],\n",
      "       [  3.00000054, -26.37610416]]), array([9.18679043e-05, 1.22666226e-04, 1.29020819e-04]))\n",
      "           fun: 9.186790426518598e-05\n",
      "       message: 'Optimization terminated successfully.'\n",
      "          nfev: 131\n",
      "           nit: 67\n",
      "        status: 0\n",
      "       success: True\n",
      "             x: array([  2.99999984, -26.37610404])\n",
      " final_simplex: (array([[  2.99999976, -26.37610405],\n",
      "       [  3.00000038, -26.37610406],\n",
      "       [  2.99999962, -26.37610436]]), array([9.95098355e-05, 1.25451116e-04, 1.70468425e-04]))\n",
      "           fun: 9.950983549256165e-05\n",
      "       message: 'Optimization terminated successfully.'\n",
      "          nfev: 267\n",
      "           nit: 133\n",
      "        status: 0\n",
      "       success: True\n",
      "             x: array([  2.99999976, -26.37610405])\n",
      " final_simplex: (array([[  3.0000001 , -26.37610404],\n",
      "       [  3.00000049, -26.37610424],\n",
      "       [  2.99999978, -26.37610435]]), array([9.10817389e-05, 1.28499665e-04, 1.44714097e-04]))\n",
      "           fun: 9.108173892791172e-05\n",
      "       message: 'Optimization terminated successfully.'\n",
      "          nfev: 176\n",
      "           nit: 93\n",
      "        status: 0\n",
      "       success: True\n",
      "             x: array([  3.0000001 , -26.37610404])\n",
      " final_simplex: (array([[  2.99999989, -26.37610407],\n",
      "       [  2.99999968, -26.37610427],\n",
      "       [  3.00000059, -26.37610427]]), array([7.02103064e-05, 1.16450152e-04, 1.58298224e-04]))\n",
      "           fun: 7.021030641585213e-05\n",
      "       message: 'Optimization terminated successfully.'\n",
      "          nfev: 138\n",
      "           nit: 70\n",
      "        status: 0\n",
      "       success: True\n",
      "             x: array([  2.99999989, -26.37610407])\n",
      " final_simplex: (array([[  3.00000001, -26.37610427],\n",
      "       [  2.99999981, -26.37610406],\n",
      "       [  2.99999946, -26.37610416]]), array([6.92587696e-05, 8.68311098e-05, 1.35793666e-04]))\n",
      "           fun: 6.925876955943266e-05\n",
      "       message: 'Optimization terminated successfully.'\n",
      "          nfev: 132\n",
      "           nit: 68\n",
      "        status: 0\n",
      "       success: True\n",
      "             x: array([  3.00000001, -26.37610427])\n",
      " final_simplex: (array([[  3.00000012, -26.37610431],\n",
      "       [  2.99999999, -26.37610398],\n",
      "       [  2.99999952, -26.37610419]]), array([9.81945521e-05, 1.20480520e-04, 1.26484409e-04]))\n",
      "           fun: 9.819455205928307e-05\n",
      "       message: 'Optimization terminated successfully.'\n",
      "          nfev: 137\n",
      "           nit: 70\n",
      "        status: 0\n",
      "       success: True\n",
      "             x: array([  3.00000012, -26.37610431])\n",
      " final_simplex: (array([[  3.00000023, -26.37610422],\n",
      "       [  2.99999968, -26.37610417],\n",
      "       [  2.99999983, -26.37610402]]), array([6.99030712e-05, 8.37522516e-05, 1.03197308e-04]))\n",
      "           fun: 6.990307124343786e-05\n",
      "       message: 'Optimization terminated successfully.'\n",
      "          nfev: 131\n",
      "           nit: 68\n",
      "        status: 0\n",
      "       success: True\n",
      "             x: array([  3.00000023, -26.37610422])\n",
      " final_simplex: (array([[  2.99999984, -26.37610426],\n",
      "       [  2.99999992, -26.37610403],\n",
      "       [  3.00000057, -26.37610412]]), array([8.13870306e-05, 9.25144791e-05, 1.46091204e-04]))\n",
      "           fun: 8.138703059845653e-05\n",
      "       message: 'Optimization terminated successfully.'\n",
      "          nfev: 267\n",
      "           nit: 134\n",
      "        status: 0\n",
      "       success: True\n",
      "             x: array([  2.99999984, -26.37610426])\n",
      " final_simplex: (array([[  2.99999984, -26.37610403],\n",
      "       [  2.99999984, -26.3761043 ],\n",
      "       [  2.99999935, -26.37610415]]), array([9.86783213e-05, 1.06789501e-04, 1.63196675e-04]))\n",
      "           fun: 9.867832128218623e-05\n",
      "       message: 'Optimization terminated successfully.'\n",
      "          nfev: 147\n",
      "           nit: 75\n",
      "        status: 0\n",
      "       success: True\n",
      "             x: array([  2.99999984, -26.37610403])\n",
      " final_simplex: (array([[  3.00000012, -26.37610406],\n",
      "       [  2.99999999, -26.3761043 ],\n",
      "       [  2.99999945, -26.3761043 ]]), array([7.90044024e-05, 9.16699201e-05, 1.74096297e-04]))\n",
      "           fun: 7.900440236419115e-05\n",
      "       message: 'Optimization terminated successfully.'\n",
      "          nfev: 149\n",
      "           nit: 77\n",
      "        status: 0\n",
      "       success: True\n",
      "             x: array([  3.00000012, -26.37610406])\n",
      " final_simplex: (array([[ 3.00000038, -2.49999996],\n",
      "       [ 2.99999958, -2.5       ],\n",
      "       [ 2.99999992, -2.49999982]]), array([9.94746800e-05, 1.04225966e-04, 1.19701986e-04]))\n",
      "           fun: 9.947467995807813e-05\n",
      "       message: 'Optimization terminated successfully.'\n",
      "          nfev: 117\n",
      "           nit: 60\n",
      "        status: 0\n",
      "       success: True\n",
      "             x: array([ 3.00000038, -2.49999996])\n",
      " final_simplex: (array([[ 2.99999993, -2.5000001 ],\n",
      "       [ 2.99999989, -2.49999982],\n",
      "       [ 2.99999945, -2.49999988]]), array([6.95745469e-05, 1.19996562e-04, 1.59678989e-04]))\n",
      "           fun: 6.957454686062903e-05\n",
      "       message: 'Optimization terminated successfully.'\n",
      "          nfev: 115\n",
      "           nit: 60\n",
      "        status: 0\n",
      "       success: True\n",
      "             x: array([ 2.99999993, -2.5000001 ])\n",
      " final_simplex: (array([[ 2.99999986, -2.49999992],\n",
      "       [ 3.00000044, -2.49999996],\n",
      "       [ 3.00000035, -2.50000018]]), array([6.39405685e-05, 1.12498491e-04, 1.47955110e-04]))\n",
      "           fun: 6.394056852165875e-05\n",
      "       message: 'Optimization terminated successfully.'\n",
      "          nfev: 121\n",
      "           nit: 64\n",
      "        status: 0\n",
      "       success: True\n",
      "             x: array([ 2.99999986, -2.49999992])\n",
      " final_simplex: (array([[ 3.00000035, -2.49999998],\n",
      "       [ 2.99999962, -2.50000001],\n",
      "       [ 3.00000025, -2.50000024]]), array([8.74867376e-05, 9.48161875e-05, 1.72329270e-04]))\n",
      "           fun: 8.748673759217951e-05\n",
      "       message: 'Optimization terminated successfully.'\n",
      "          nfev: 124\n",
      "           nit: 65\n",
      "        status: 0\n",
      "       success: True\n",
      "             x: array([ 3.00000035, -2.49999998])\n",
      " final_simplex: (array([[ 2.99999984, 21.37610418],\n",
      "       [ 2.9999999 , 21.37610428],\n",
      "       [ 3.00000032, 21.37610418]]), array([4.28192066e-05, 8.05894633e-05, 8.36893459e-05]))\n",
      "           fun: 4.2819206610644756e-05\n",
      "       message: 'Optimization terminated successfully.'\n",
      "          nfev: 145\n",
      "           nit: 76\n",
      "        status: 0\n",
      "       success: True\n",
      "             x: array([ 2.99999984, 21.37610418])\n",
      " final_simplex: (array([[ 3.00000014, 21.37610426],\n",
      "       [ 2.99999951, 21.37610416],\n",
      "       [ 3.00000012, 21.37610393]]), array([7.82200987e-05, 1.18027768e-04, 1.55724490e-04]))\n",
      "           fun: 7.822009868707624e-05\n",
      "       message: 'Optimization terminated successfully.'\n",
      "          nfev: 139\n",
      "           nit: 72\n",
      "        status: 0\n",
      "       success: True\n",
      "             x: array([ 3.00000014, 21.37610426])\n",
      " final_simplex: (array([[ 3.0000002 , 21.37610405],\n",
      "       [ 2.99999982, 21.37610402],\n",
      "       [ 3.00000009, 21.37610434]]), array([9.48186208e-05, 1.07139612e-04, 1.20731351e-04]))\n",
      "           fun: 9.481862082338921e-05\n",
      "       message: 'Optimization terminated successfully.'\n",
      "          nfev: 120\n",
      "           nit: 62\n",
      "        status: 0\n",
      "       success: True\n",
      "             x: array([ 3.0000002 , 21.37610405])\n",
      " final_simplex: (array([[ 2.99999959, 21.37610419],\n",
      "       [ 3.00000014, 21.3761044 ],\n",
      "       [ 3.00000071, 21.37610414]]), array([9.87845156e-05, 1.68898228e-04, 1.77095219e-04]))\n",
      "           fun: 9.878451556755152e-05\n",
      "       message: 'Optimization terminated successfully.'\n",
      "          nfev: 109\n",
      "           nit: 55\n",
      "        status: 0\n",
      "       success: True\n",
      "             x: array([ 2.99999959, 21.37610419])\n",
      " final_simplex: (array([[ 3.00000001, 21.37610405],\n",
      "       [ 2.99999958, 21.37610418],\n",
      "       [ 2.99999961, 21.37610399]]), array([7.38945415e-05, 1.00278565e-04, 1.57250903e-04]))\n",
      "           fun: 7.389454149553387e-05\n",
      "       message: 'Optimization terminated successfully.'\n",
      "          nfev: 126\n",
      "           nit: 64\n",
      "        status: 0\n",
      "       success: True\n",
      "             x: array([ 3.00000001, 21.37610405])\n",
      " final_simplex: (array([[ 2.99999976, 21.37610424],\n",
      "       [ 3.00000034, 21.37610406],\n",
      "       [ 3.00000044, 21.37610432]]), array([7.78576271e-05, 1.09618831e-04, 1.59340341e-04]))\n",
      "           fun: 7.785762707257504e-05\n",
      "       message: 'Optimization terminated successfully.'\n",
      "          nfev: 138\n",
      "           nit: 70\n",
      "        status: 0\n",
      "       success: True\n",
      "             x: array([ 2.99999976, 21.37610424])\n",
      " final_simplex: (array([[ 2.9999997 , 21.37610417],\n",
      "       [ 2.9999998 , 21.37610427],\n",
      "       [ 3.00000048, 21.376104  ]]), array([7.21236539e-05, 8.42520193e-05, 1.65053280e-04]))\n",
      "           fun: 7.212365390429909e-05\n",
      "       message: 'Optimization terminated successfully.'\n",
      "          nfev: 115\n",
      "           nit: 59\n",
      "        status: 0\n",
      "       success: True\n",
      "             x: array([ 2.9999997 , 21.37610417])\n",
      " final_simplex: (array([[ 2.9999998 , 21.37610408],\n",
      "       [ 3.00000054, 21.37610409],\n",
      "       [ 2.99999957, 21.37610433]]), array([8.08703562e-05, 1.44299753e-04, 1.52665510e-04]))\n",
      "           fun: 8.087035619919192e-05\n",
      "       message: 'Optimization terminated successfully.'\n",
      "          nfev: 132\n",
      "           nit: 69\n",
      "        status: 0\n",
      "       success: True\n",
      "             x: array([ 2.9999998 , 21.37610408])\n",
      " final_simplex: (array([[ 2.99999991, 21.37610407],\n",
      "       [ 3.00000047, 21.37610405],\n",
      "       [ 3.0000002 , 21.37610395]]), array([7.16181057e-05, 1.38028338e-04, 1.49520148e-04]))\n",
      "           fun: 7.161810569034088e-05\n",
      "       message: 'Optimization terminated successfully.'\n",
      "          nfev: 139\n",
      "           nit: 69\n",
      "        status: 0\n",
      "       success: True\n",
      "             x: array([ 2.99999991, 21.37610407])\n",
      " final_simplex: (array([[ 3.00000023, 45.25220826],\n",
      "       [ 2.99999955, 45.25220834],\n",
      "       [ 2.99999969, 45.25220811]]), array([7.85756086e-05, 1.08493654e-04, 1.73335250e-04]))\n",
      "           fun: 7.857560863477886e-05\n",
      "       message: 'Optimization terminated successfully.'\n",
      "          nfev: 155\n",
      "           nit: 79\n",
      "        status: 0\n",
      "       success: True\n",
      "             x: array([ 3.00000023, 45.25220826])\n",
      " final_simplex: (array([[ 3.00000014, 45.25220838],\n",
      "       [ 2.99999973, 45.25220825],\n",
      "       [ 2.99999962, 45.2522084 ]]), array([6.12242361e-05, 9.33063783e-05, 1.07258511e-04]))\n",
      "           fun: 6.122423614485228e-05\n",
      "       message: 'Optimization terminated successfully.'\n",
      "          nfev: 138\n",
      "           nit: 71\n",
      "        status: 0\n",
      "       success: True\n",
      "             x: array([ 3.00000014, 45.25220838])\n",
      " final_simplex: (array([[ 3.00000026, 45.25220834],\n",
      "       [ 2.99999953, 45.25220839],\n",
      "       [ 2.9999996 , 45.25220822]]), array([7.45255187e-05, 1.21351449e-04, 1.29826938e-04]))\n",
      "           fun: 7.452551870557045e-05\n",
      "       message: 'Optimization terminated successfully.'\n",
      "          nfev: 130\n",
      "           nit: 65\n",
      "        status: 0\n",
      "       success: True\n",
      "             x: array([ 3.00000026, 45.25220834])\n",
      " final_simplex: (array([[ 3.00000021, 45.25220837],\n",
      "       [ 2.99999987, 45.25220818],\n",
      "       [ 2.99999936, 45.25220827]]), array([6.83553206e-05, 1.12840523e-04, 1.64932874e-04]))\n",
      "           fun: 6.835532057980487e-05\n",
      "       message: 'Optimization terminated successfully.'\n",
      "          nfev: 136\n",
      "           nit: 69\n",
      "        status: 0\n",
      "       success: True\n",
      "             x: array([ 3.00000021, 45.25220837])\n",
      " final_simplex: (array([[ 3.00000007, 45.25220847],\n",
      "       [ 3.00000047, 45.25220832],\n",
      "       [ 2.99999991, 45.25220813]]), array([9.91551053e-05, 1.21043501e-04, 1.38987304e-04]))\n",
      "           fun: 9.915510532731986e-05\n",
      "       message: 'Optimization terminated successfully.'\n",
      "          nfev: 123\n",
      "           nit: 62\n",
      "        status: 0\n",
      "       success: True\n",
      "             x: array([ 3.00000007, 45.25220847])\n",
      " final_simplex: (array([[ 3.00000022, 69.12831247],\n",
      "       [ 2.99999988, 69.12831231],\n",
      "       [ 2.99999939, 69.12831258]]), array([7.51548266e-05, 1.32815483e-04, 1.63751381e-04]))\n",
      "           fun: 7.515482659936623e-05\n",
      "       message: 'Optimization terminated successfully.'\n",
      "          nfev: 151\n",
      "           nit: 75\n",
      "        status: 0\n",
      "       success: True\n",
      "             x: array([ 3.00000022, 69.12831247])\n",
      " final_simplex: (array([[ 2.99999984, 69.12831237],\n",
      "       [ 3.00000023, 69.12831259],\n",
      "       [ 3.00000056, 69.12831233]]), array([9.76658924e-05, 1.05792655e-04, 1.80398302e-04]))\n",
      "           fun: 9.766589241699819e-05\n",
      "       message: 'Optimization terminated successfully.'\n",
      "          nfev: 167\n",
      "           nit: 85\n",
      "        status: 0\n",
      "       success: True\n",
      "             x: array([ 2.99999984, 69.12831237])\n",
      " final_simplex: (array([[ 2.99999977, 45.25220832],\n",
      "       [ 2.99999992, 45.25220844],\n",
      "       [ 3.00000053, 45.25220832]]), array([5.96372831e-05, 7.95831887e-05, 1.36929494e-04]))\n",
      "           fun: 5.963728306834781e-05\n",
      "       message: 'Optimization terminated successfully.'\n",
      "          nfev: 140\n",
      "           nit: 71\n",
      "        status: 0\n",
      "       success: True\n",
      "             x: array([ 2.99999977, 45.25220832])\n",
      " final_simplex: (array([[ 3.00000026, 69.1283125 ],\n",
      "       [ 2.99999982, 69.12831231],\n",
      "       [ 2.99999972, 69.12831273]]), array([8.28021143e-05, 1.36797608e-04, 1.75246304e-04]))\n",
      "           fun: 8.280211426381356e-05\n",
      "       message: 'Optimization terminated successfully.'\n",
      "          nfev: 129\n",
      "           nit: 63\n",
      "        status: 0\n",
      "       success: True\n",
      "             x: array([ 3.00000026, 69.1283125 ])\n",
      " final_simplex: (array([[ 2.99999997, 93.00441654],\n",
      "       [ 3.00000014, 93.00441677],\n",
      "       [ 2.99999974, 93.00441686]]), array([8.32391236e-05, 1.07156437e-04, 1.57456607e-04]))\n",
      "           fun: 8.323912356100749e-05\n",
      "       message: 'Optimization terminated successfully.'\n",
      "          nfev: 200\n",
      "           nit: 100\n",
      "        status: 0\n",
      "       success: True\n",
      "             x: array([ 2.99999997, 93.00441654])\n",
      " final_simplex: (array([[ 3.00000004, 69.12831261],\n",
      "       [ 2.99999965, 69.12831248],\n",
      "       [ 3.00000063, 69.12831242]]), array([9.13810769e-05, 9.25376137e-05, 1.73712504e-04]))\n",
      "           fun: 9.138107685391361e-05\n",
      "       message: 'Optimization terminated successfully.'\n",
      "          nfev: 155\n",
      "           nit: 81\n",
      "        status: 0\n",
      "       success: True\n",
      "             x: array([ 3.00000004, 69.12831261])\n",
      " final_simplex: (array([[ 2.99999974, 69.12831257],\n",
      "       [ 3.00000036, 69.12831261],\n",
      "       [ 2.99999996, 69.12831273]]), array([9.36888983e-05, 1.35783260e-04, 1.56479248e-04]))\n",
      "           fun: 9.368889831495864e-05\n",
      "       message: 'Optimization terminated successfully.'\n",
      "          nfev: 167\n",
      "           nit: 84\n",
      "        status: 0\n",
      "       success: True\n",
      "             x: array([ 2.99999974, 69.12831257])\n"
     ]
    }
   ],
   "source": [
    "a0 = -50\n",
    "b0 = -50\n",
    "\n",
    "a = []\n",
    "b = []\n",
    "errors = []\n",
    "\n",
    "for i in range(1000):\n",
    "    a.append(a0)\n",
    "    a0 += 0.1\n",
    "    \n",
    "    b.append(b0)\n",
    "    b0 += 0.1\n",
    "    \n",
    "    x0 = [a[i], b[i]]\n",
    "    res = minimize(error, x0, method='Nelder-Mead')\n",
    "    \n",
    "    if res.fun < 0.0001:\n",
    "        print(res)"
   ]
  },
  {
   "cell_type": "code",
   "execution_count": 201,
   "id": "8dc1f98f-6f4a-49d2-a734-ad186e7fedc4",
   "metadata": {},
   "outputs": [
    {
     "data": {
      "text/plain": [
       "     fun: 6.654315949727874e-05\n",
       "     jac: array([-179.72938758, -466.54879288])\n",
       " message: 'Converged (|x_n-x_(n-1)| ~= 0)'\n",
       "    nfev: 9\n",
       "     nit: 1\n",
       "  status: 2\n",
       " success: True\n",
       "       x: array([  2.99999984, -26.37610423])"
      ]
     },
     "execution_count": 201,
     "metadata": {},
     "output_type": "execute_result"
    }
   ],
   "source": [
    "x3 = [2.99999984, -26.37610404]\n",
    "res = minimize(error, x3, method='TNC')\n",
    "res"
   ]
  },
  {
   "cell_type": "markdown",
   "id": "4c54a57c-c3d8-4cc9-85a5-3fa19c5f6fce",
   "metadata": {},
   "source": [
    "4."
   ]
  },
  {
   "cell_type": "code",
   "execution_count": 203,
   "id": "dac088a1-0408-49a7-a615-cc8d029525d7",
   "metadata": {},
   "outputs": [
    {
     "data": {
      "text/plain": [
       "<AxesSubplot:ylabel='Count'>"
      ]
     },
     "execution_count": 203,
     "metadata": {},
     "output_type": "execute_result"
    },
    {
     "data": {
      "image/png": "[encoded data removed]",
      "text/plain": [
       "<Figure size 432x288 with 1 Axes>"
      ]
     },
     "metadata": {
      "needs_background": "light"
     },
     "output_type": "display_data"
    }
   ],
   "source": [
    "uniform_rv = stats.uniform(loc=-50, scale=100)\n",
    "\n",
    "m_list = []\n",
    "\n",
    "for i in range(1000):\n",
    "    data = uniform_rv.rvs(size=50)\n",
    "    m_list.append(data.mean())\n",
    "    \n",
    "sns.histplot(x=m_list)"
   ]
  },
  {
   "cell_type": "markdown",
   "id": "ad019541-9afb-46d9-bac6-a47c1938ac4c",
   "metadata": {},
   "source": [
    "5."
   ]
  },
  {
   "cell_type": "code",
   "execution_count": 204,
   "id": "ce5c3b04-c822-4964-9da9-003d00da44a0",
   "metadata": {},
   "outputs": [
    {
     "data": {
      "text/plain": [
       "array([[1, 4],\n",
       "       [1, 1]])"
      ]
     },
     "execution_count": 204,
     "metadata": {},
     "output_type": "execute_result"
    }
   ],
   "source": [
    "m = np.array([[1, 4],\n",
    "              [1, 1]])\n",
    "m"
   ]
  },
  {
   "cell_type": "code",
   "execution_count": 205,
   "id": "9c73a8d9-e02c-440e-a978-54c60597da94",
   "metadata": {},
   "outputs": [
    {
     "data": {
      "text/plain": [
       "(array([ 3., -1.]),\n",
       " array([[ 0.89442719, -0.89442719],\n",
       "        [ 0.4472136 ,  0.4472136 ]]))"
      ]
     },
     "execution_count": 205,
     "metadata": {},
     "output_type": "execute_result"
    }
   ],
   "source": [
    "np.linalg.eig(m)"
   ]
  },
  {
   "cell_type": "markdown",
   "id": "738c09cd-cdfd-47d5-b4e1-8697560fe5a9",
   "metadata": {},
   "source": [
    "Решение на бумаге: https://drive.google.com/file/d/1oA407JMNSa42NQUknJbnQx4hI7E5d8Y5/view?usp=sharing"
   ]
  },
  {
   "cell_type": "markdown",
   "id": "3d14fde7-b51c-4b84-95f7-302a789795e9",
   "metadata": {},
   "source": [
    "."
   ]
  }
 ],
 "metadata": {
  "kernelspec": {
   "display_name": "Python 3",
   "language": "python",
   "name": "python3"
  },
  "language_info": {
   "codemirror_mode": {
    "name": "ipython",
    "version": 3
   },
   "file_extension": ".py",
   "mimetype": "text/x-python",
   "name": "python",
   "nbconvert_exporter": "python",
   "pygments_lexer": "ipython3",
   "version": "3.8.8"
  }
 },
 "nbformat": 4,
 "nbformat_minor": 5
}
